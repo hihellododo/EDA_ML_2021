{
 "cells": [
  {
   "cell_type": "code",
   "execution_count": 5,
   "id": "5dd6aae5",
   "metadata": {},
   "outputs": [],
   "source": [
    "import pandas as pd\n",
    "import numpy as np\n",
    "import warnings\n",
    "\n",
    "warnings.filterwarnings('ignore')\n",
    "\n",
    "from sklearn.preprocessing import OneHotEncoder\n",
    "from sklearn import preprocessing\n",
    "\n",
    "from sklearn.model_selection import train_test_split\n",
    "from sklearn.model_selection import TimeSeriesSplit\n",
    "\n",
    "from sklearn.model_selection import cross_val_score\n",
    "\n",
    "from optuna import Trial\n",
    "import optuna\n",
    "from optuna.samplers import TPESampler"
   ]
  },
  {
   "cell_type": "code",
   "execution_count": 34,
   "id": "2bd85b28",
   "metadata": {},
   "outputs": [
    {
     "name": "stdout",
     "output_type": "stream",
     "text": [
      "<class 'pandas.core.frame.DataFrame'>\n",
      "Int64Index: 237987 entries, 64104 to 208092\n",
      "Data columns (total 19 columns):\n",
      " #   Column       Non-Null Count   Dtype  \n",
      "---  ------       --------------   -----  \n",
      " 0   전용면적         237987 non-null  float64\n",
      " 1   거래금액         237987 non-null  int64  \n",
      " 2   층            237987 non-null  int64  \n",
      " 3   건축년도         237987 non-null  int64  \n",
      " 4   평당단가         237987 non-null  float64\n",
      " 5   구            237987 non-null  object \n",
      " 6   동            237987 non-null  object \n",
      " 7   단지명브랜드       237987 non-null  object \n",
      " 8   계약날짜인코딩      237987 non-null  int64  \n",
      " 9   구별 공원 갯수     237987 non-null  float64\n",
      " 10  8학군          237987 non-null  int64  \n",
      " 11  동별지하철역수      237987 non-null  int64  \n",
      " 12  구별 교과학원 갯수   237987 non-null  int64  \n",
      " 13  구별 대형마트 수    235898 non-null  float64\n",
      " 14  구별 백화점 수     235898 non-null  float64\n",
      " 15  구별 전체 마트 수   235898 non-null  float64\n",
      " 16  구별 대학병원 병원수  237987 non-null  int64  \n",
      " 17  구별 종합병원 병원수  237987 non-null  int64  \n",
      " 18  단지명별 신축거래비율  237987 non-null  float64\n",
      "dtypes: float64(7), int64(9), object(3)\n",
      "memory usage: 36.3+ MB\n"
     ]
    }
   ],
   "source": [
    "sample_df = pd.read_csv('train_data_final.csv', sep=',')\n",
    "\n",
    "# 시간 순서대로 데이터 반영하기 위해서 거래년월일 정렬 필요\n",
    "sample_df = sample_df.sort_values('계약날짜인코딩')\n",
    "sample_df.info()"
   ]
  },
  {
   "cell_type": "code",
   "execution_count": 69,
   "id": "7421792e",
   "metadata": {},
   "outputs": [
    {
     "data": {
      "text/plain": [
       "OneHotEncoder()"
      ]
     },
     "execution_count": 69,
     "metadata": {},
     "output_type": "execute_result"
    }
   ],
   "source": [
    "enc = OneHotEncoder()\n",
    "encfit=enc.fit(sample_df['동'].values.reshape(-1, 1))\n",
    "# enc.fit(X)\n",
    "encfit"
   ]
  },
  {
   "cell_type": "code",
   "execution_count": 57,
   "id": "a06093f2",
   "metadata": {},
   "outputs": [],
   "source": [
    "# encfit.categories_[0]"
   ]
  },
  {
   "cell_type": "code",
   "execution_count": 60,
   "id": "2a88f8c0",
   "metadata": {},
   "outputs": [],
   "source": [
    "input_=np.array('공릉동').reshape(-1, 1)\n",
    "enctrans=enc.transform(input_).toarray()"
   ]
  },
  {
   "cell_type": "code",
   "execution_count": 62,
   "id": "4aebd2ca",
   "metadata": {},
   "outputs": [],
   "source": [
    "category_dong=sample_df['동'].drop_duplicates()"
   ]
  },
  {
   "cell_type": "code",
   "execution_count": 64,
   "id": "3efb29ac",
   "metadata": {},
   "outputs": [],
   "source": [
    "category_gu=sample_df['구'].drop_duplicates()"
   ]
  },
  {
   "cell_type": "code",
   "execution_count": 65,
   "id": "723507cb",
   "metadata": {},
   "outputs": [],
   "source": [
    "category_aptbrand=sample_df['단지명브랜드'].drop_duplicates()"
   ]
  },
  {
   "cell_type": "code",
   "execution_count": 67,
   "id": "d6176796",
   "metadata": {},
   "outputs": [],
   "source": [
    "category_dong.to_csv('category_dong.csv',index=False, encoding='utf-8-sig')\n",
    "category_gu.to_csv('category_gu.csv',index=False, encoding='utf-8-sig')\n",
    "category_aptbrand.to_csv('category_aptbrand.csv',index=False, encoding='utf-8-sig')"
   ]
  },
  {
   "cell_type": "code",
   "execution_count": 75,
   "id": "e4a8dbca",
   "metadata": {},
   "outputs": [],
   "source": [
    "sample_df[['구','동','단지명브랜드','건축년도','층']].to_csv('category_df.csv',index=False, encoding='utf-8-sig')"
   ]
  },
  {
   "cell_type": "code",
   "execution_count": 76,
   "id": "48462c71",
   "metadata": {},
   "outputs": [
    {
     "data": {
      "text/plain": [
       "array([1., 0., 0., 0., 0., 0., 0., 0., 0., 0., 0., 0., 0., 0., 0., 0., 0.,\n",
       "       0., 0., 0., 0., 0., 0., 0., 0., 0., 0., 0., 0., 0., 0., 0., 0., 1.,\n",
       "       0., 0., 0., 0., 0., 0., 0., 0., 0., 0., 0., 0., 0., 0., 0., 0., 0.,\n",
       "       0., 0., 0., 0., 0., 0., 0., 0., 0., 0., 0., 0., 0., 0., 0., 0., 0.,\n",
       "       0., 0., 0., 0., 0., 0., 0., 0., 0., 0., 0., 0., 0., 0., 0., 0., 0.,\n",
       "       0., 0., 0., 0., 0., 0., 0., 0., 0., 0., 0., 0., 0., 0., 0., 0., 0.,\n",
       "       0., 0., 0., 0., 0., 0., 0., 0., 0., 0., 0., 0., 0., 0., 0., 0., 0.,\n",
       "       0., 0., 0., 0., 0., 0., 0., 0., 0., 0., 0., 0., 0., 0., 0., 0., 0.,\n",
       "       0., 0., 0., 0., 0., 0., 0., 0., 0., 0., 0., 0., 0., 0., 0., 0., 0.,\n",
       "       0., 0., 0., 0., 0., 0., 0., 0., 0., 0., 0., 0., 0., 0., 0., 0., 0.,\n",
       "       0., 0., 0., 0., 0., 0., 0., 0., 0., 0., 0., 0., 0., 0., 0., 0., 0.,\n",
       "       0., 0., 0., 0., 0., 0., 0., 0., 0., 0., 0., 0., 0., 0., 0., 0., 0.,\n",
       "       0., 0., 0., 0., 0., 0., 0., 0., 0., 0., 0., 0., 0., 0., 0., 0., 0.,\n",
       "       0., 0., 0., 0., 0., 0., 0., 0., 0., 0., 0., 0., 0., 0., 0., 0., 0.,\n",
       "       0., 0., 0., 0., 0., 0., 0., 0., 0., 0., 0., 0., 0., 0., 0., 0., 0.,\n",
       "       0., 0., 0., 0., 0., 0., 0., 0., 0., 0., 0., 0., 0., 0., 0., 0., 0.,\n",
       "       0., 0., 0., 0., 0., 0., 0., 0., 0., 0., 0., 0., 0., 0., 0., 0., 0.,\n",
       "       0., 0., 0., 0., 0., 0., 0., 0., 0., 0., 0., 0., 0., 0., 0., 0., 0.,\n",
       "       0., 0., 0., 0., 0., 0., 0., 0., 0., 0., 0., 0., 0., 0., 0., 0., 0.,\n",
       "       0., 0., 0., 0., 0., 0., 0., 0., 0., 0., 0., 0., 0., 0., 0., 0., 0.,\n",
       "       0., 0., 0., 0., 0., 0., 0., 0., 0., 0., 0., 0., 0., 0., 0., 0., 0.,\n",
       "       0., 0., 0., 0., 0., 0., 0., 0., 0., 0., 0., 0., 0., 0., 0., 0., 0.,\n",
       "       0., 0., 0., 0., 0., 0., 0., 0., 0., 0., 0., 0., 0., 0., 0., 1., 0.,\n",
       "       0., 0., 0., 0., 0., 0., 0., 0., 0., 0., 0., 0., 0., 0., 0., 0., 0.,\n",
       "       0., 0., 0., 0., 0., 0., 0., 0., 0., 0., 0., 0., 0., 0., 0., 0., 0.,\n",
       "       0., 0., 0., 0., 0., 0., 0., 0., 0., 0., 1., 0., 0., 0., 0., 0., 0.,\n",
       "       0., 0., 0., 0., 0., 0., 0., 0., 0., 1., 0., 0., 0., 0., 0., 0., 0.,\n",
       "       0., 0., 0., 0., 0., 0., 0., 0., 0., 0., 0., 0., 0., 0., 0., 0., 0.,\n",
       "       0., 0., 0., 0., 0., 0., 0., 0., 0., 0., 0., 0., 0., 0., 0., 0., 0.,\n",
       "       0., 0., 0., 0., 0., 0., 0., 0., 0., 0., 0., 0., 0., 0., 0., 0., 0.,\n",
       "       0., 0., 0., 0., 0., 0., 0., 0.])"
      ]
     },
     "execution_count": 76,
     "metadata": {},
     "output_type": "execute_result"
    }
   ],
   "source": [
    "\n",
    "def encoding_and_scaling(features):\n",
    "    # category_gu = pd.read_csv('category_gu.csv',encoding='utf-8')\n",
    "    # category_dong = pd.read_csv('category_dong.csv',encoding='utf-8')\n",
    "    # category_aptbrand = pd.read_csv('category_aptbrand.csv',encoding='utf-8')\n",
    "    category_df = pd.read_csv('category_df.csv', encoding='utf-8')\n",
    "    enc_arr = np.array([])\n",
    "\n",
    "    # 입력값마다 for문 반복\n",
    "    # for feature in features:\n",
    "    for i in range(5):\n",
    "        # if feature.dtype == object or feature.dtype == str:\n",
    "                # # 컬럼의 유니크한 값을 리스트로 만들어둠\n",
    "            col_ith_items = category_df.iloc[:, i].unique().tolist()\n",
    "            onehot = OneHotEncoder()\n",
    "            onehot.fit(np.array(col_ith_items).reshape(-1, 1))\n",
    "\n",
    "             # input 값 대입\n",
    "            input_ = np.array(features[i]).reshape(-1, 1)\n",
    "            col_ith_enc_arr = onehot.transform(input_).toarray()\n",
    "            enc_arr = np.append(enc_arr, col_ith_enc_arr)\n",
    "\n",
    "    return enc_arr\n",
    "\n",
    "encoding_and_scaling(['강남구', '개포동', '현대',2007,2])"
   ]
  },
  {
   "cell_type": "code",
   "execution_count": null,
   "id": "dc48c45b",
   "metadata": {},
   "outputs": [],
   "source": []
  }
 ],
 "metadata": {
  "kernelspec": {
   "display_name": "Python 3",
   "language": "python",
   "name": "python3"
  },
  "language_info": {
   "codemirror_mode": {
    "name": "ipython",
    "version": 3
   },
   "file_extension": ".py",
   "mimetype": "text/x-python",
   "name": "python",
   "nbconvert_exporter": "python",
   "pygments_lexer": "ipython3",
   "version": "3.8.8"
  }
 },
 "nbformat": 4,
 "nbformat_minor": 5
}
