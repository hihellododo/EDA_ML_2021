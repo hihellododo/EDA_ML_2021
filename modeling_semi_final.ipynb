{
 "cells": [
  {
   "cell_type": "markdown",
   "metadata": {},
   "source": [
    "# 모델링 거의 완성본; 12/29 8시50분"
   ]
  },
  {
   "cell_type": "code",
   "execution_count": 73,
   "metadata": {},
   "outputs": [],
   "source": [
    "import pandas as pd\n",
    "import numpy as np\n",
    "import warnings\n",
    "\n",
    "warnings.filterwarnings('ignore')\n",
    "\n",
    "from sklearn.preprocessing import OneHotEncoder\n",
    "from sklearn import preprocessing\n",
    "\n",
    "from sklearn.model_selection import train_test_split\n",
    "from sklearn.model_selection import TimeSeriesSplit\n",
    "\n",
    "from sklearn.model_selection import cross_val_score\n",
    "from sklearn.model_selection import cross_validate\n",
    "\n",
    "from optuna import Trial\n",
    "import optuna\n",
    "from optuna.samplers import TPESampler"
   ]
  },
  {
   "cell_type": "code",
   "execution_count": 95,
   "metadata": {},
   "outputs": [
    {
     "data": {
      "text/plain": [
       "Index(['전용면적', '거래금액', '층', '건축년도', '평당단가', '구', '동', '단지명브랜드', '계약날짜인코딩',\n",
       "       '구별 공원 갯수', '8학군', '동별지하철역수', '구별 교과학원 갯수', '구별 대형마트 수', '구별 백화점 수',\n",
       "       '구별 전체 마트 수', '구별 대학병원 병원수', '구별 종합병원 병원수', '단지명별 신축거래비율'],\n",
       "      dtype='object')"
      ]
     },
     "execution_count": 95,
     "metadata": {},
     "output_type": "execute_result"
    }
   ],
   "source": [
    "sample_df = pd.read_csv('train_data_final.csv', sep=',')\n",
    "sample_df.columns"
   ]
  },
  {
   "cell_type": "code",
   "execution_count": 96,
   "metadata": {},
   "outputs": [
    {
     "name": "stdout",
     "output_type": "stream",
     "text": [
      "<class 'pandas.core.frame.DataFrame'>\n",
      "RangeIndex: 237987 entries, 0 to 237986\n",
      "Data columns (total 19 columns):\n",
      " #   Column       Non-Null Count   Dtype  \n",
      "---  ------       --------------   -----  \n",
      " 0   전용면적         237987 non-null  float64\n",
      " 1   거래금액         237987 non-null  int64  \n",
      " 2   층            237987 non-null  int64  \n",
      " 3   건축년도         237987 non-null  int64  \n",
      " 4   평당단가         237987 non-null  float64\n",
      " 5   구            237987 non-null  object \n",
      " 6   동            237987 non-null  object \n",
      " 7   단지명브랜드       237987 non-null  object \n",
      " 8   계약날짜인코딩      237987 non-null  int64  \n",
      " 9   구별 공원 갯수     237987 non-null  float64\n",
      " 10  8학군          237987 non-null  int64  \n",
      " 11  동별지하철역수      237987 non-null  int64  \n",
      " 12  구별 교과학원 갯수   237987 non-null  int64  \n",
      " 13  구별 대형마트 수    237987 non-null  float64\n",
      " 14  구별 백화점 수     237987 non-null  float64\n",
      " 15  구별 전체 마트 수   237987 non-null  float64\n",
      " 16  구별 대학병원 병원수  237987 non-null  int64  \n",
      " 17  구별 종합병원 병원수  237987 non-null  int64  \n",
      " 18  단지명별 신축거래비율  237987 non-null  float64\n",
      "dtypes: float64(7), int64(9), object(3)\n",
      "memory usage: 34.5+ MB\n"
     ]
    }
   ],
   "source": [
    "# 시간 순서대로 데이터 반영하기 위해서 거래년월일 정렬 필요\n",
    "# sample_df = sample_df.sort_values('계약날짜인코딩')\n",
    "# sample_df = sample_df[sample_df.columns.difference(['층', '건축년도', '구', '계약날짜인코딩',\n",
    "#        '구별 공원 갯수', '동별지하철역수', '구별 교과학원 갯수', '구별 대형마트 수', '구별 백화점 수',\n",
    "#        '구별 전체 마트 수', '구별 대학병원 병원수', '구별 종합병원 병원수', '단지명별 신축거래비율'])]\n",
    "sample_df = sample_df.fillna(0)\n",
    "sample_df.info()"
   ]
  },
  {
   "cell_type": "code",
   "execution_count": 97,
   "metadata": {},
   "outputs": [
    {
     "name": "stderr",
     "output_type": "stream",
     "text": [
      "100%|████████████████████████████████████████████████████████████████████████████████| 330/330 [00:05<00:00, 62.07it/s]\n"
     ]
    },
    {
     "data": {
      "text/html": [
       "<div>\n",
       "<style scoped>\n",
       "    .dataframe tbody tr th:only-of-type {\n",
       "        vertical-align: middle;\n",
       "    }\n",
       "\n",
       "    .dataframe tbody tr th {\n",
       "        vertical-align: top;\n",
       "    }\n",
       "\n",
       "    .dataframe thead th {\n",
       "        text-align: right;\n",
       "    }\n",
       "</style>\n",
       "<table border=\"1\" class=\"dataframe\">\n",
       "  <thead>\n",
       "    <tr style=\"text-align: right;\">\n",
       "      <th></th>\n",
       "      <th>전용면적</th>\n",
       "      <th>거래금액</th>\n",
       "      <th>층</th>\n",
       "      <th>건축년도</th>\n",
       "      <th>평당단가</th>\n",
       "      <th>구</th>\n",
       "      <th>동</th>\n",
       "      <th>단지명브랜드</th>\n",
       "      <th>계약날짜인코딩</th>\n",
       "      <th>구별 공원 갯수</th>\n",
       "      <th>8학군</th>\n",
       "      <th>동별지하철역수</th>\n",
       "      <th>구별 교과학원 갯수</th>\n",
       "      <th>구별 대형마트 수</th>\n",
       "      <th>구별 백화점 수</th>\n",
       "      <th>구별 전체 마트 수</th>\n",
       "      <th>구별 대학병원 병원수</th>\n",
       "      <th>구별 종합병원 병원수</th>\n",
       "      <th>단지명별 신축거래비율</th>\n",
       "    </tr>\n",
       "  </thead>\n",
       "  <tbody>\n",
       "    <tr>\n",
       "      <th>0</th>\n",
       "      <td>79.97</td>\n",
       "      <td>130000</td>\n",
       "      <td>4</td>\n",
       "      <td>1987</td>\n",
       "      <td>5364.511692</td>\n",
       "      <td>강남구</td>\n",
       "      <td>8</td>\n",
       "      <td>기타</td>\n",
       "      <td>2</td>\n",
       "      <td>132.0</td>\n",
       "      <td>1</td>\n",
       "      <td>1</td>\n",
       "      <td>1304</td>\n",
       "      <td>1.0</td>\n",
       "      <td>6.0</td>\n",
       "      <td>7.0</td>\n",
       "      <td>4</td>\n",
       "      <td>33</td>\n",
       "      <td>0.110657</td>\n",
       "    </tr>\n",
       "    <tr>\n",
       "      <th>1</th>\n",
       "      <td>79.97</td>\n",
       "      <td>117000</td>\n",
       "      <td>2</td>\n",
       "      <td>1987</td>\n",
       "      <td>4828.060523</td>\n",
       "      <td>강남구</td>\n",
       "      <td>8</td>\n",
       "      <td>기타</td>\n",
       "      <td>7</td>\n",
       "      <td>132.0</td>\n",
       "      <td>1</td>\n",
       "      <td>1</td>\n",
       "      <td>1304</td>\n",
       "      <td>1.0</td>\n",
       "      <td>6.0</td>\n",
       "      <td>7.0</td>\n",
       "      <td>4</td>\n",
       "      <td>33</td>\n",
       "      <td>0.110657</td>\n",
       "    </tr>\n",
       "    <tr>\n",
       "      <th>2</th>\n",
       "      <td>79.97</td>\n",
       "      <td>130000</td>\n",
       "      <td>1</td>\n",
       "      <td>1987</td>\n",
       "      <td>5364.511692</td>\n",
       "      <td>강남구</td>\n",
       "      <td>8</td>\n",
       "      <td>기타</td>\n",
       "      <td>10</td>\n",
       "      <td>132.0</td>\n",
       "      <td>1</td>\n",
       "      <td>1</td>\n",
       "      <td>1304</td>\n",
       "      <td>1.0</td>\n",
       "      <td>6.0</td>\n",
       "      <td>7.0</td>\n",
       "      <td>4</td>\n",
       "      <td>33</td>\n",
       "      <td>0.110657</td>\n",
       "    </tr>\n",
       "    <tr>\n",
       "      <th>3</th>\n",
       "      <td>79.97</td>\n",
       "      <td>139500</td>\n",
       "      <td>2</td>\n",
       "      <td>1987</td>\n",
       "      <td>5756.533700</td>\n",
       "      <td>강남구</td>\n",
       "      <td>8</td>\n",
       "      <td>기타</td>\n",
       "      <td>77</td>\n",
       "      <td>132.0</td>\n",
       "      <td>1</td>\n",
       "      <td>1</td>\n",
       "      <td>1304</td>\n",
       "      <td>1.0</td>\n",
       "      <td>6.0</td>\n",
       "      <td>7.0</td>\n",
       "      <td>4</td>\n",
       "      <td>33</td>\n",
       "      <td>0.110657</td>\n",
       "    </tr>\n",
       "    <tr>\n",
       "      <th>4</th>\n",
       "      <td>54.98</td>\n",
       "      <td>107500</td>\n",
       "      <td>5</td>\n",
       "      <td>1987</td>\n",
       "      <td>6452.346308</td>\n",
       "      <td>강남구</td>\n",
       "      <td>8</td>\n",
       "      <td>기타</td>\n",
       "      <td>94</td>\n",
       "      <td>132.0</td>\n",
       "      <td>1</td>\n",
       "      <td>1</td>\n",
       "      <td>1304</td>\n",
       "      <td>1.0</td>\n",
       "      <td>6.0</td>\n",
       "      <td>7.0</td>\n",
       "      <td>4</td>\n",
       "      <td>33</td>\n",
       "      <td>0.110657</td>\n",
       "    </tr>\n",
       "  </tbody>\n",
       "</table>\n",
       "</div>"
      ],
      "text/plain": [
       "    전용면적    거래금액  층  건축년도         평당단가    구  동 단지명브랜드  계약날짜인코딩  구별 공원 갯수  8학군  \\\n",
       "0  79.97  130000  4  1987  5364.511692  강남구  8     기타        2     132.0    1   \n",
       "1  79.97  117000  2  1987  4828.060523  강남구  8     기타        7     132.0    1   \n",
       "2  79.97  130000  1  1987  5364.511692  강남구  8     기타       10     132.0    1   \n",
       "3  79.97  139500  2  1987  5756.533700  강남구  8     기타       77     132.0    1   \n",
       "4  54.98  107500  5  1987  6452.346308  강남구  8     기타       94     132.0    1   \n",
       "\n",
       "   동별지하철역수  구별 교과학원 갯수  구별 대형마트 수  구별 백화점 수  구별 전체 마트 수  구별 대학병원 병원수  \\\n",
       "0        1        1304        1.0       6.0         7.0            4   \n",
       "1        1        1304        1.0       6.0         7.0            4   \n",
       "2        1        1304        1.0       6.0         7.0            4   \n",
       "3        1        1304        1.0       6.0         7.0            4   \n",
       "4        1        1304        1.0       6.0         7.0            4   \n",
       "\n",
       "   구별 종합병원 병원수  단지명별 신축거래비율  \n",
       "0           33     0.110657  \n",
       "1           33     0.110657  \n",
       "2           33     0.110657  \n",
       "3           33     0.110657  \n",
       "4           33     0.110657  "
      ]
     },
     "execution_count": 97,
     "metadata": {},
     "output_type": "execute_result"
    }
   ],
   "source": [
    "# 동 레이블 인코딩\n",
    "from tqdm import tqdm\n",
    "# dong_price = sample_df.groupby('동')['거래금액'].agg('mean').sort_values(ascending=False)\n",
    "dong_price = sample_df.groupby('동').count()\n",
    "\n",
    "# 가격기준으로 동을 정렬한 리스트를 바탕으로 dong에 대해 라벨 인코딩 진행 - 477 it.\n",
    "for i, d in tqdm(enumerate(list(dong_price.index)), total=len(dong_price)):\n",
    "    sample_df.loc[sample_df['동'] == d, '동'] = i\n",
    "    # test_dat.loc[test_df['동'] == d, '동'] = i\n",
    "sample_df.head()"
   ]
  },
  {
   "cell_type": "code",
   "execution_count": 98,
   "metadata": {},
   "outputs": [
    {
     "name": "stdout",
     "output_type": "stream",
     "text": [
      "<class 'pandas.core.frame.DataFrame'>\n",
      "RangeIndex: 237987 entries, 0 to 237986\n",
      "Data columns (total 19 columns):\n",
      " #   Column       Non-Null Count   Dtype  \n",
      "---  ------       --------------   -----  \n",
      " 0   전용면적         237987 non-null  float64\n",
      " 1   거래금액         237987 non-null  int64  \n",
      " 2   층            237987 non-null  int64  \n",
      " 3   건축년도         237987 non-null  int64  \n",
      " 4   평당단가         237987 non-null  float64\n",
      " 5   구            237987 non-null  object \n",
      " 6   동            237987 non-null  int32  \n",
      " 7   단지명브랜드       237987 non-null  object \n",
      " 8   계약날짜인코딩      237987 non-null  int64  \n",
      " 9   구별 공원 갯수     237987 non-null  float64\n",
      " 10  8학군          237987 non-null  int64  \n",
      " 11  동별지하철역수      237987 non-null  int64  \n",
      " 12  구별 교과학원 갯수   237987 non-null  int64  \n",
      " 13  구별 대형마트 수    237987 non-null  float64\n",
      " 14  구별 백화점 수     237987 non-null  float64\n",
      " 15  구별 전체 마트 수   237987 non-null  float64\n",
      " 16  구별 대학병원 병원수  237987 non-null  int64  \n",
      " 17  구별 종합병원 병원수  237987 non-null  int64  \n",
      " 18  단지명별 신축거래비율  237987 non-null  float64\n",
      "dtypes: float64(7), int32(1), int64(9), object(2)\n",
      "memory usage: 33.6+ MB\n"
     ]
    }
   ],
   "source": [
    "sample_df = sample_df.astype({'동':'int'})\n",
    "sample_df.info()"
   ]
  },
  {
   "cell_type": "markdown",
   "metadata": {},
   "source": [
    "### 1. 무지성 인코딩"
   ]
  },
  {
   "cell_type": "code",
   "execution_count": 101,
   "metadata": {},
   "outputs": [],
   "source": [
    "\n",
    "'''\n",
    "    - 카테고리: 데이터 전처리\n",
    "    - 개요: 무지성 인코딩 => 전체 컬럼 데이터 타입 확인 후 통째로 범주형 인코딩 처리\n",
    "    - param: df\n",
    "    - return: encoded columns dataframe\n",
    "'''\n",
    "def one_hot(df):\n",
    "    # 컬럼의 이름 리스트로 뽑아오기\n",
    "    columns_name_list = list(df.columns)\n",
    "\n",
    "    # 컬럼마다 for문 반복\n",
    "    for col_name in columns_name_list:\n",
    "        # 만약 컬럼의 값 타입이 범주형이면\n",
    "        if df[col_name].dtype == object or df[col_name].dtype == str:\n",
    "\n",
    "            # # 컬럼의 유니크한 값을 리스트로 만들어둠\n",
    "            col_items = df[col_name].unique().tolist()\n",
    "            # print(col_items)\n",
    "\n",
    "            onehot = OneHotEncoder(sparse=False)\n",
    "            # print(col_name)\n",
    "            onehot_encoded_arr = onehot.fit_transform(df[col_name].values.reshape(-1, 1))\n",
    "            onehot_encoded_label = onehot.categories_[0]\n",
    "            onehot_encoded_df = pd.DataFrame(onehot_encoded_arr, columns=onehot_encoded_label)\n",
    "            # print(onehot_encoded_df)\n",
    "            df.drop(col_name, axis=1, inplace=True)\n",
    "            df = pd.concat([df, onehot_encoded_df], axis=1)\n",
    "        else:\n",
    "            # 종속(타겟) 컬럼만 인코딩 제외\n",
    "            if col_name == '평당단가':\n",
    "                continue\n",
    "            scaled_label = [col_name]\n",
    "            x = df[col_name].values.reshape(-1, 1) #returns a numpy array\n",
    "            min_max_scaler = preprocessing.MinMaxScaler()\n",
    "            x_scaled = min_max_scaler.fit_transform(x)\n",
    "            scaled_df = pd.DataFrame(x_scaled, columns=scaled_label)\n",
    "\n",
    "            df.drop(col_name, axis=1, inplace=True)\n",
    "            df = pd.concat([df, scaled_df], axis=1)\n",
    "\n",
    "    return df\n",
    "'''\n",
    "    - 카테고리: 데이터 전처리\n",
    "    - 개요: 무지성 인코딩 => 새로운 데이터 컬럼 추가 시 별도 인코딩 결과만 출력할 때 사용 ㄱㄱ\n",
    "    - param: df, col_name\n",
    "    - return: encoded columns dataframe or series\n",
    "'''\n",
    "def encode_column(df, col_name):\n",
    "\n",
    "    # column data type이 object 또는 str 즉 범주형일 경우\n",
    "    # onehot 인코딩 수행된 데이터프레임 return\n",
    "    if df[col_name].dtype == object or df[col_name].dtype == str:\n",
    "        onehot = OneHotEncoder(sparse=False)\n",
    "\n",
    "        onehot_encoded_arr = onehot.fit_transform(df[col_name].values.reshape(-1, 1))\n",
    "        onehot_encoded_label = onehot.categories_[0]\n",
    "        onehot_encoded_df = pd.DataFrame(onehot_encoded_arr, columns=onehot_encoded_label)\n",
    "\n",
    "        return onehot_encoded_df\n",
    "\n",
    "    # column data type이 나머지 타입일 경우\n",
    "    # 해당 컬럼의 series return\n",
    "    else:\n",
    "        return df[col_name]"
   ]
  },
  {
   "cell_type": "code",
   "execution_count": 102,
   "metadata": {},
   "outputs": [
    {
     "data": {
      "text/html": [
       "<div>\n",
       "<style scoped>\n",
       "    .dataframe tbody tr th:only-of-type {\n",
       "        vertical-align: middle;\n",
       "    }\n",
       "\n",
       "    .dataframe tbody tr th {\n",
       "        vertical-align: top;\n",
       "    }\n",
       "\n",
       "    .dataframe thead th {\n",
       "        text-align: right;\n",
       "    }\n",
       "</style>\n",
       "<table border=\"1\" class=\"dataframe\">\n",
       "  <thead>\n",
       "    <tr style=\"text-align: right;\">\n",
       "      <th></th>\n",
       "      <th>평당단가</th>\n",
       "      <th>거래금액</th>\n",
       "      <th>층</th>\n",
       "      <th>건축년도</th>\n",
       "      <th>강남구</th>\n",
       "      <th>강동구</th>\n",
       "      <th>강북구</th>\n",
       "      <th>강서구</th>\n",
       "      <th>관악구</th>\n",
       "      <th>광진구</th>\n",
       "      <th>...</th>\n",
       "      <th>구별 공원 갯수</th>\n",
       "      <th>8학군</th>\n",
       "      <th>동별지하철역수</th>\n",
       "      <th>구별 교과학원 갯수</th>\n",
       "      <th>구별 대형마트 수</th>\n",
       "      <th>구별 백화점 수</th>\n",
       "      <th>구별 전체 마트 수</th>\n",
       "      <th>구별 대학병원 병원수</th>\n",
       "      <th>구별 종합병원 병원수</th>\n",
       "      <th>단지명별 신축거래비율</th>\n",
       "    </tr>\n",
       "  </thead>\n",
       "  <tbody>\n",
       "    <tr>\n",
       "      <th>0</th>\n",
       "      <td>5364.511692</td>\n",
       "      <td>0.149293</td>\n",
       "      <td>0.044118</td>\n",
       "      <td>0.433333</td>\n",
       "      <td>1.0</td>\n",
       "      <td>0.0</td>\n",
       "      <td>0.0</td>\n",
       "      <td>0.0</td>\n",
       "      <td>0.0</td>\n",
       "      <td>0.0</td>\n",
       "      <td>...</td>\n",
       "      <td>0.916667</td>\n",
       "      <td>1.0</td>\n",
       "      <td>0.142857</td>\n",
       "      <td>1.000000</td>\n",
       "      <td>0.166667</td>\n",
       "      <td>1.0</td>\n",
       "      <td>0.875</td>\n",
       "      <td>0.571429</td>\n",
       "      <td>1.000000</td>\n",
       "      <td>0.110657</td>\n",
       "    </tr>\n",
       "    <tr>\n",
       "      <th>1</th>\n",
       "      <td>4828.060523</td>\n",
       "      <td>0.133717</td>\n",
       "      <td>0.014706</td>\n",
       "      <td>0.433333</td>\n",
       "      <td>1.0</td>\n",
       "      <td>0.0</td>\n",
       "      <td>0.0</td>\n",
       "      <td>0.0</td>\n",
       "      <td>0.0</td>\n",
       "      <td>0.0</td>\n",
       "      <td>...</td>\n",
       "      <td>0.916667</td>\n",
       "      <td>1.0</td>\n",
       "      <td>0.142857</td>\n",
       "      <td>1.000000</td>\n",
       "      <td>0.166667</td>\n",
       "      <td>1.0</td>\n",
       "      <td>0.875</td>\n",
       "      <td>0.571429</td>\n",
       "      <td>1.000000</td>\n",
       "      <td>0.110657</td>\n",
       "    </tr>\n",
       "    <tr>\n",
       "      <th>2</th>\n",
       "      <td>5364.511692</td>\n",
       "      <td>0.149293</td>\n",
       "      <td>0.000000</td>\n",
       "      <td>0.433333</td>\n",
       "      <td>1.0</td>\n",
       "      <td>0.0</td>\n",
       "      <td>0.0</td>\n",
       "      <td>0.0</td>\n",
       "      <td>0.0</td>\n",
       "      <td>0.0</td>\n",
       "      <td>...</td>\n",
       "      <td>0.916667</td>\n",
       "      <td>1.0</td>\n",
       "      <td>0.142857</td>\n",
       "      <td>1.000000</td>\n",
       "      <td>0.166667</td>\n",
       "      <td>1.0</td>\n",
       "      <td>0.875</td>\n",
       "      <td>0.571429</td>\n",
       "      <td>1.000000</td>\n",
       "      <td>0.110657</td>\n",
       "    </tr>\n",
       "    <tr>\n",
       "      <th>3</th>\n",
       "      <td>5756.533700</td>\n",
       "      <td>0.160676</td>\n",
       "      <td>0.014706</td>\n",
       "      <td>0.433333</td>\n",
       "      <td>1.0</td>\n",
       "      <td>0.0</td>\n",
       "      <td>0.0</td>\n",
       "      <td>0.0</td>\n",
       "      <td>0.0</td>\n",
       "      <td>0.0</td>\n",
       "      <td>...</td>\n",
       "      <td>0.916667</td>\n",
       "      <td>1.0</td>\n",
       "      <td>0.142857</td>\n",
       "      <td>1.000000</td>\n",
       "      <td>0.166667</td>\n",
       "      <td>1.0</td>\n",
       "      <td>0.875</td>\n",
       "      <td>0.571429</td>\n",
       "      <td>1.000000</td>\n",
       "      <td>0.110657</td>\n",
       "    </tr>\n",
       "    <tr>\n",
       "      <th>4</th>\n",
       "      <td>6452.346308</td>\n",
       "      <td>0.122334</td>\n",
       "      <td>0.058824</td>\n",
       "      <td>0.433333</td>\n",
       "      <td>1.0</td>\n",
       "      <td>0.0</td>\n",
       "      <td>0.0</td>\n",
       "      <td>0.0</td>\n",
       "      <td>0.0</td>\n",
       "      <td>0.0</td>\n",
       "      <td>...</td>\n",
       "      <td>0.916667</td>\n",
       "      <td>1.0</td>\n",
       "      <td>0.142857</td>\n",
       "      <td>1.000000</td>\n",
       "      <td>0.166667</td>\n",
       "      <td>1.0</td>\n",
       "      <td>0.875</td>\n",
       "      <td>0.571429</td>\n",
       "      <td>1.000000</td>\n",
       "      <td>0.110657</td>\n",
       "    </tr>\n",
       "    <tr>\n",
       "      <th>...</th>\n",
       "      <td>...</td>\n",
       "      <td>...</td>\n",
       "      <td>...</td>\n",
       "      <td>...</td>\n",
       "      <td>...</td>\n",
       "      <td>...</td>\n",
       "      <td>...</td>\n",
       "      <td>...</td>\n",
       "      <td>...</td>\n",
       "      <td>...</td>\n",
       "      <td>...</td>\n",
       "      <td>...</td>\n",
       "      <td>...</td>\n",
       "      <td>...</td>\n",
       "      <td>...</td>\n",
       "      <td>...</td>\n",
       "      <td>...</td>\n",
       "      <td>...</td>\n",
       "      <td>...</td>\n",
       "      <td>...</td>\n",
       "      <td>...</td>\n",
       "    </tr>\n",
       "    <tr>\n",
       "      <th>237982</th>\n",
       "      <td>1410.601638</td>\n",
       "      <td>0.047927</td>\n",
       "      <td>0.073529</td>\n",
       "      <td>0.700000</td>\n",
       "      <td>0.0</td>\n",
       "      <td>0.0</td>\n",
       "      <td>0.0</td>\n",
       "      <td>0.0</td>\n",
       "      <td>0.0</td>\n",
       "      <td>0.0</td>\n",
       "      <td>...</td>\n",
       "      <td>0.076389</td>\n",
       "      <td>0.0</td>\n",
       "      <td>0.142857</td>\n",
       "      <td>0.101749</td>\n",
       "      <td>1.000000</td>\n",
       "      <td>0.0</td>\n",
       "      <td>0.750</td>\n",
       "      <td>0.428571</td>\n",
       "      <td>0.322581</td>\n",
       "      <td>0.110657</td>\n",
       "    </tr>\n",
       "    <tr>\n",
       "      <th>237983</th>\n",
       "      <td>1269.794287</td>\n",
       "      <td>0.024682</td>\n",
       "      <td>0.014706</td>\n",
       "      <td>0.700000</td>\n",
       "      <td>0.0</td>\n",
       "      <td>0.0</td>\n",
       "      <td>0.0</td>\n",
       "      <td>0.0</td>\n",
       "      <td>0.0</td>\n",
       "      <td>0.0</td>\n",
       "      <td>...</td>\n",
       "      <td>0.076389</td>\n",
       "      <td>0.0</td>\n",
       "      <td>0.142857</td>\n",
       "      <td>0.101749</td>\n",
       "      <td>1.000000</td>\n",
       "      <td>0.0</td>\n",
       "      <td>0.750</td>\n",
       "      <td>0.428571</td>\n",
       "      <td>0.322581</td>\n",
       "      <td>0.110657</td>\n",
       "    </tr>\n",
       "    <tr>\n",
       "      <th>237984</th>\n",
       "      <td>1513.445904</td>\n",
       "      <td>0.046250</td>\n",
       "      <td>0.073529</td>\n",
       "      <td>0.766667</td>\n",
       "      <td>0.0</td>\n",
       "      <td>0.0</td>\n",
       "      <td>0.0</td>\n",
       "      <td>0.0</td>\n",
       "      <td>0.0</td>\n",
       "      <td>0.0</td>\n",
       "      <td>...</td>\n",
       "      <td>0.076389</td>\n",
       "      <td>0.0</td>\n",
       "      <td>0.142857</td>\n",
       "      <td>0.101749</td>\n",
       "      <td>1.000000</td>\n",
       "      <td>0.0</td>\n",
       "      <td>0.750</td>\n",
       "      <td>0.428571</td>\n",
       "      <td>0.322581</td>\n",
       "      <td>0.016495</td>\n",
       "    </tr>\n",
       "    <tr>\n",
       "      <th>237985</th>\n",
       "      <td>1805.330937</td>\n",
       "      <td>0.059190</td>\n",
       "      <td>0.058824</td>\n",
       "      <td>0.766667</td>\n",
       "      <td>0.0</td>\n",
       "      <td>0.0</td>\n",
       "      <td>0.0</td>\n",
       "      <td>0.0</td>\n",
       "      <td>0.0</td>\n",
       "      <td>0.0</td>\n",
       "      <td>...</td>\n",
       "      <td>0.076389</td>\n",
       "      <td>0.0</td>\n",
       "      <td>0.142857</td>\n",
       "      <td>0.101749</td>\n",
       "      <td>1.000000</td>\n",
       "      <td>0.0</td>\n",
       "      <td>0.750</td>\n",
       "      <td>0.428571</td>\n",
       "      <td>0.322581</td>\n",
       "      <td>0.016495</td>\n",
       "    </tr>\n",
       "    <tr>\n",
       "      <th>237986</th>\n",
       "      <td>1698.623086</td>\n",
       "      <td>0.041457</td>\n",
       "      <td>0.058824</td>\n",
       "      <td>0.766667</td>\n",
       "      <td>0.0</td>\n",
       "      <td>0.0</td>\n",
       "      <td>0.0</td>\n",
       "      <td>0.0</td>\n",
       "      <td>0.0</td>\n",
       "      <td>0.0</td>\n",
       "      <td>...</td>\n",
       "      <td>0.076389</td>\n",
       "      <td>0.0</td>\n",
       "      <td>0.142857</td>\n",
       "      <td>0.101749</td>\n",
       "      <td>1.000000</td>\n",
       "      <td>0.0</td>\n",
       "      <td>0.750</td>\n",
       "      <td>0.428571</td>\n",
       "      <td>0.322581</td>\n",
       "      <td>0.016495</td>\n",
       "    </tr>\n",
       "  </tbody>\n",
       "</table>\n",
       "<p>237987 rows × 78 columns</p>\n",
       "</div>"
      ],
      "text/plain": [
       "               평당단가      거래금액         층      건축년도  강남구  강동구  강북구  강서구  관악구  \\\n",
       "0       5364.511692  0.149293  0.044118  0.433333  1.0  0.0  0.0  0.0  0.0   \n",
       "1       4828.060523  0.133717  0.014706  0.433333  1.0  0.0  0.0  0.0  0.0   \n",
       "2       5364.511692  0.149293  0.000000  0.433333  1.0  0.0  0.0  0.0  0.0   \n",
       "3       5756.533700  0.160676  0.014706  0.433333  1.0  0.0  0.0  0.0  0.0   \n",
       "4       6452.346308  0.122334  0.058824  0.433333  1.0  0.0  0.0  0.0  0.0   \n",
       "...             ...       ...       ...       ...  ...  ...  ...  ...  ...   \n",
       "237982  1410.601638  0.047927  0.073529  0.700000  0.0  0.0  0.0  0.0  0.0   \n",
       "237983  1269.794287  0.024682  0.014706  0.700000  0.0  0.0  0.0  0.0  0.0   \n",
       "237984  1513.445904  0.046250  0.073529  0.766667  0.0  0.0  0.0  0.0  0.0   \n",
       "237985  1805.330937  0.059190  0.058824  0.766667  0.0  0.0  0.0  0.0  0.0   \n",
       "237986  1698.623086  0.041457  0.058824  0.766667  0.0  0.0  0.0  0.0  0.0   \n",
       "\n",
       "        광진구  ...  구별 공원 갯수  8학군   동별지하철역수  구별 교과학원 갯수  구별 대형마트 수  구별 백화점 수  \\\n",
       "0       0.0  ...  0.916667  1.0  0.142857    1.000000   0.166667       1.0   \n",
       "1       0.0  ...  0.916667  1.0  0.142857    1.000000   0.166667       1.0   \n",
       "2       0.0  ...  0.916667  1.0  0.142857    1.000000   0.166667       1.0   \n",
       "3       0.0  ...  0.916667  1.0  0.142857    1.000000   0.166667       1.0   \n",
       "4       0.0  ...  0.916667  1.0  0.142857    1.000000   0.166667       1.0   \n",
       "...     ...  ...       ...  ...       ...         ...        ...       ...   \n",
       "237982  0.0  ...  0.076389  0.0  0.142857    0.101749   1.000000       0.0   \n",
       "237983  0.0  ...  0.076389  0.0  0.142857    0.101749   1.000000       0.0   \n",
       "237984  0.0  ...  0.076389  0.0  0.142857    0.101749   1.000000       0.0   \n",
       "237985  0.0  ...  0.076389  0.0  0.142857    0.101749   1.000000       0.0   \n",
       "237986  0.0  ...  0.076389  0.0  0.142857    0.101749   1.000000       0.0   \n",
       "\n",
       "        구별 전체 마트 수  구별 대학병원 병원수  구별 종합병원 병원수  단지명별 신축거래비율  \n",
       "0            0.875     0.571429     1.000000     0.110657  \n",
       "1            0.875     0.571429     1.000000     0.110657  \n",
       "2            0.875     0.571429     1.000000     0.110657  \n",
       "3            0.875     0.571429     1.000000     0.110657  \n",
       "4            0.875     0.571429     1.000000     0.110657  \n",
       "...            ...          ...          ...          ...  \n",
       "237982       0.750     0.428571     0.322581     0.110657  \n",
       "237983       0.750     0.428571     0.322581     0.110657  \n",
       "237984       0.750     0.428571     0.322581     0.016495  \n",
       "237985       0.750     0.428571     0.322581     0.016495  \n",
       "237986       0.750     0.428571     0.322581     0.016495  \n",
       "\n",
       "[237987 rows x 78 columns]"
      ]
     },
     "execution_count": 102,
     "metadata": {},
     "output_type": "execute_result"
    }
   ],
   "source": [
    "# 1-1 test one_hot function\n",
    "preprocessed_train_df = one_hot(sample_df)\n",
    "preprocessed_train_df"
   ]
  },
  {
   "cell_type": "code",
   "execution_count": 103,
   "metadata": {},
   "outputs": [
    {
     "data": {
      "text/plain": [
       "(142792, 142792)"
      ]
     },
     "execution_count": 103,
     "metadata": {},
     "output_type": "execute_result"
    }
   ],
   "source": [
    "# 인코딩된 전체 데이터 셋에서 train, test split하여 분할 시행\n",
    "# fit 함수에서 사용할 예정 train(모델 훈련 및 도출), test(최종 검증 데이터)\n",
    "\n",
    "# 인코딩된 데이터에서 data, target 분류\n",
    "data = preprocessed_train_df[preprocessed_train_df.columns.difference(['평당단가', '거래금액', '전용면적'])]\n",
    "target = preprocessed_train_df['평당단가'] \n",
    "\n",
    "train_x, test_x, train_y, test_y = train_test_split(data, target, test_size=0.4, shuffle=False)\n",
    "\n",
    "# train_x(data), train_y(target) => cross validation을 이용하여 교차 검증 및 점수 도출할 데이터\n",
    "# test_x(data), test_y(target) => 향후 train data를 이용하여 생성된 최종 모형 평가하기 위한 테스트 데이터\n",
    "# 무작위가 아닌 시간순 정렬 반영 위해 shuffle=False\n",
    "\n",
    "len(train_x), len(train_y)"
   ]
  },
  {
   "cell_type": "markdown",
   "metadata": {},
   "source": [
    "### 2. 모델링"
   ]
  },
  {
   "cell_type": "code",
   "execution_count": 104,
   "metadata": {},
   "outputs": [],
   "source": [
    "from sklearn.model_selection import KFold\n",
    "\n",
    "'''\n",
    "    - 카테고리: 모델링\n",
    "    - 개요: 머신러닝 모델링 수행 및 점수 도출\n",
    "        - 교차 검증 방법으로 TimeSeriesSplit 수행\n",
    "    - param: \n",
    "\n",
    "        1. model_tuple => ex. ('LR', LinearRegression())\n",
    "        2. X_train, y_train, X_test, y_test\n",
    "\n",
    "    - return: rmse\n",
    "'''\n",
    "def execute_modeling(model_tuple, data, target):\n",
    "\n",
    "    name = model_tuple[0]\n",
    "    model = model_tuple[1]\n",
    "\n",
    "    # TimeSeries Cross validation \n",
    "#     tscv = TimeSeriesSplit(n_splits=7)\n",
    "    # fold = KFold(n_splits=10)\n",
    "\n",
    "    # 각 모델에 대하여 교차 검증한 결과 점수 확인\n",
    "    # r^2, rmse 같이 도출 ㄱㄱ\n",
    "    # scoring parameter option 어캐 줘야 함?\n",
    "    score_list = []\n",
    "    score_type = ['r2', 'neg_mean_squared_error']\n",
    "\n",
    "    for s_type in score_type:\n",
    "\n",
    "        scores = cross_val_score(model, data, target, cv=7, scoring=s_type)\n",
    "\n",
    "        if s_type == 'neg_mean_squared_error':\n",
    "            scores = np.sqrt(-scores)\n",
    "\n",
    "        print(f'{name} average {s_type}: {scores.mean()}, score_list {s_type}: {scores}')\n",
    "\n",
    "        score_list.append(scores.mean())\n",
    "\n",
    "    rmse_score = score_list[1]\n",
    "\n",
    "    print(f'{name} 학습완료')"
   ]
  },
  {
   "cell_type": "code",
   "execution_count": 105,
   "metadata": {
    "scrolled": false
   },
   "outputs": [
    {
     "name": "stderr",
     "output_type": "stream",
     "text": [
      "\r",
      "  0%|                                                                                            | 0/3 [00:00<?, ?it/s]"
     ]
    },
    {
     "name": "stdout",
     "output_type": "stream",
     "text": [
      "RF average r2: 0.6227240514729492, score_list r2: [0.83754805 0.33303987 0.73638695 0.37666936 0.78093017 0.516778\n",
      " 0.77771596]\n"
     ]
    },
    {
     "name": "stderr",
     "output_type": "stream",
     "text": [
      "\r",
      " 33%|████████████████████████████                                                        | 1/3 [00:47<01:35, 47.82s/it]"
     ]
    },
    {
     "name": "stdout",
     "output_type": "stream",
     "text": [
      "RF average neg_mean_squared_error: 778.2059555635269, score_list neg_mean_squared_error: [ 655.86062055  450.10084164  724.28016652 1128.24384255  832.37285024\n",
      "  751.72040534  904.8629621 ]\n",
      "RF 학습완료\n",
      "model_xgb average r2: 0.7146535185171442, score_list r2: [0.8544055  0.5235799  0.7965273  0.52125432 0.82750101 0.7076174\n",
      " 0.7716892 ]\n"
     ]
    },
    {
     "name": "stderr",
     "output_type": "stream",
     "text": [
      "\r",
      " 67%|████████████████████████████████████████████████████████                            | 2/3 [02:49<01:31, 91.43s/it]"
     ]
    },
    {
     "name": "stdout",
     "output_type": "stream",
     "text": [
      "model_xgb average neg_mean_squared_error: 730.4207158953592, score_list neg_mean_squared_error: [ 629.4017823   374.66047785  637.21487985 1231.72144618  793.8685019\n",
      "  546.67892709  899.39899611]\n",
      "model_xgb 학습완료\n",
      "model_lgb average r2: 0.6921342444992626, score_list r2: [0.83596606 0.47354315 0.76802746 0.53718905 0.80267705 0.66304345\n",
      " 0.76449349]\n"
     ]
    },
    {
     "name": "stderr",
     "output_type": "stream",
     "text": [
      "100%|████████████████████████████████████████████████████████████████████████████████████| 3/3 [02:58<00:00, 59.56s/it]"
     ]
    },
    {
     "name": "stdout",
     "output_type": "stream",
     "text": [
      "model_lgb average neg_mean_squared_error: 757.5355771819064, score_list neg_mean_squared_error: [ 668.0705678   393.84399816  680.37934201 1211.04946493  849.07117706\n",
      "  586.87218724  913.46230306]\n",
      "model_lgb 학습완료\n"
     ]
    },
    {
     "name": "stderr",
     "output_type": "stream",
     "text": [
      "\n"
     ]
    }
   ],
   "source": [
    "from sklearn.linear_model import LinearRegression \n",
    "from sklearn.ensemble import RandomForestRegressor\n",
    "import xgboost as xgb\n",
    "import lightgbm as lgb\n",
    "\n",
    "# 2. test execute_modeling function\n",
    "preprocessed_train_df = one_hot(sample_df)\n",
    "preprocessed_train_df = preprocessed_train_df.drop_duplicates()\n",
    "\n",
    "model_list = [\n",
    "                # ('LR', LinearRegression()), \n",
    "                ('RF', RandomForestRegressor(n_estimators=5)),\n",
    "                ('model_xgb', xgb.XGBRegressor()),\n",
    "                ('model_lgb', lgb.LGBMRegressor())\n",
    "            ]\n",
    "\n",
    "for model_tuple in tqdm(model_list):\n",
    "    execute_modeling(model_tuple, train_x, train_y)\n",
    "    pass"
   ]
  },
  {
   "cell_type": "markdown",
   "metadata": {},
   "source": [
    "### 변수 중요도 확인"
   ]
  },
  {
   "cell_type": "code",
   "execution_count": 43,
   "metadata": {
    "scrolled": true
   },
   "outputs": [
    {
     "data": {
      "text/plain": [
       "array([0.0000000e+00, 0.0000000e+00, 0.0000000e+00, 0.0000000e+00,\n",
       "       0.0000000e+00, 0.0000000e+00, 0.0000000e+00, 0.0000000e+00,\n",
       "       0.0000000e+00, 3.2574544e-04, 9.2004112e-04, 9.6025813e-04,\n",
       "       1.0385524e-03, 1.1768790e-03, 1.4332348e-03, 1.6706202e-03,\n",
       "       1.8250749e-03, 2.5777463e-03, 2.6753908e-03, 2.7244424e-03,\n",
       "       2.7554119e-03, 2.7624741e-03, 2.8530820e-03, 3.2260346e-03,\n",
       "       3.3964678e-03, 3.4935647e-03, 3.6296768e-03, 4.0895622e-03,\n",
       "       4.3013562e-03, 4.5110448e-03, 5.1380293e-03, 5.3643761e-03,\n",
       "       5.4676142e-03, 5.6701675e-03, 5.6976951e-03, 5.8765197e-03,\n",
       "       6.0535320e-03, 6.3973176e-03, 6.6077504e-03, 6.7049703e-03,\n",
       "       6.8767243e-03, 7.1101864e-03, 7.1716709e-03, 7.6019624e-03,\n",
       "       7.8649074e-03, 7.8675682e-03, 8.8015124e-03, 9.5340405e-03,\n",
       "       9.7186938e-03, 1.0336500e-02, 1.1302996e-02, 1.1452770e-02,\n",
       "       1.1472537e-02, 1.1683451e-02, 1.2739251e-02, 1.3720554e-02,\n",
       "       1.3877918e-02, 1.4249960e-02, 1.4324062e-02, 1.4605030e-02,\n",
       "       1.4972660e-02, 1.5495206e-02, 1.5553101e-02, 1.6012555e-02,\n",
       "       1.6797962e-02, 1.9029779e-02, 1.9556342e-02, 2.1958528e-02,\n",
       "       2.4824416e-02, 2.5842328e-02, 2.8034169e-02, 2.9435836e-02,\n",
       "       3.3212718e-02, 6.3110434e-02, 3.3252704e-01], dtype=float32)"
      ]
     },
     "execution_count": 43,
     "metadata": {},
     "output_type": "execute_result"
    }
   ],
   "source": [
    "np.sort(clf.feature_importances_)"
   ]
  },
  {
   "cell_type": "code",
   "execution_count": 44,
   "metadata": {
    "scrolled": true
   },
   "outputs": [
    {
     "ename": "AttributeError",
     "evalue": "'numpy.ndarray' object has no attribute 'barh'",
     "output_type": "error",
     "traceback": [
      "\u001b[1;31m---------------------------------------------------------------------------\u001b[0m",
      "\u001b[1;31mAttributeError\u001b[0m                            Traceback (most recent call last)",
      "\u001b[1;32m<ipython-input-44-e673bafb704a>\u001b[0m in \u001b[0;36m<module>\u001b[1;34m\u001b[0m\n\u001b[0;32m      4\u001b[0m \u001b[0msorted_idx\u001b[0m \u001b[1;33m=\u001b[0m \u001b[0mclf\u001b[0m\u001b[1;33m.\u001b[0m\u001b[0mfeature_importances_\u001b[0m\u001b[1;33m.\u001b[0m\u001b[0margsort\u001b[0m\u001b[1;33m(\u001b[0m\u001b[1;33m)\u001b[0m\u001b[1;33m\u001b[0m\u001b[1;33m\u001b[0m\u001b[0m\n\u001b[0;32m      5\u001b[0m \u001b[0mplt\u001b[0m\u001b[1;33m.\u001b[0m\u001b[0mbarh\u001b[0m\u001b[1;33m(\u001b[0m\u001b[0mdata\u001b[0m\u001b[1;33m.\u001b[0m\u001b[0mcolumns\u001b[0m\u001b[1;33m[\u001b[0m\u001b[0msorted_idx\u001b[0m\u001b[1;33m]\u001b[0m\u001b[1;33m,\u001b[0m \u001b[0mclf\u001b[0m\u001b[1;33m.\u001b[0m\u001b[0mfeature_importances_\u001b[0m\u001b[1;33m[\u001b[0m\u001b[0msorted_idx\u001b[0m\u001b[1;33m]\u001b[0m\u001b[1;33m)\u001b[0m\u001b[1;33m\u001b[0m\u001b[1;33m\u001b[0m\u001b[0m\n\u001b[1;32m----> 6\u001b[1;33m \u001b[0mclf\u001b[0m\u001b[1;33m.\u001b[0m\u001b[0mfeature_importances_\u001b[0m\u001b[1;33m.\u001b[0m\u001b[0mbarh\u001b[0m\u001b[1;33m\u001b[0m\u001b[1;33m\u001b[0m\u001b[0m\n\u001b[0m",
      "\u001b[1;31mAttributeError\u001b[0m: 'numpy.ndarray' object has no attribute 'barh'"
     ]
    },
    {
     "data": {
      "image/png": "[encoded data removed]",
      "text/plain": [
       "<Figure size 1440x3600 with 1 Axes>"
      ]
     },
     "metadata": {
      "needs_background": "light"
     },
     "output_type": "display_data"
    }
   ],
   "source": [
    "import matplotlib.pyplot as plt\n",
    "plt.rc(\"font\", family=\"Malgun Gothic\") # matplotlib 한글깨짐 방지\n",
    "plt.figure(figsize=(20,50))\n",
    "sorted_idx = clf.feature_importances_.argsort()\n",
    "plt.barh(data.columns[sorted_idx], clf.feature_importances_[sorted_idx])"
   ]
  },
  {
   "cell_type": "markdown",
   "metadata": {},
   "source": [
    "### 3. 파라미터 튜닝"
   ]
  },
  {
   "cell_type": "code",
   "execution_count": 7,
   "metadata": {},
   "outputs": [
    {
     "name": "stderr",
     "output_type": "stream",
     "text": [
      "\u001b[32m[I 2021-12-28 16:21:42,984]\u001b[0m A new study created in memory with name: no-name-aa9728d7-5b52-4b7f-a314-9ab0fc9daa4f\u001b[0m\n",
      "\u001b[32m[I 2021-12-28 16:22:21,732]\u001b[0m Trial 0 finished with value: 25895.329099756465 and parameters: {'n_estimators': 790, 'max_depth': 14, 'min_child_weight': 43}. Best is trial 0 with value: 25895.329099756465.\u001b[0m\n"
     ]
    },
    {
     "name": "stdout",
     "output_type": "stream",
     "text": [
      "LGBM average rmse_scores: 25895.329099756465, rmse_scores: [19576.06321571 19376.58158036 55598.44322939 56276.78036999\n",
      " 29394.86794348 12642.15597452 12019.52356509 25045.80398683\n",
      " 21638.95337171 34075.15963913 14420.76480632 13809.82873753\n",
      " 21766.47121174 26651.99570745 26136.5431571 ]\n"
     ]
    },
    {
     "name": "stderr",
     "output_type": "stream",
     "text": [
      "\u001b[32m[I 2021-12-28 16:23:02,077]\u001b[0m Trial 1 finished with value: 26214.330928425254 and parameters: {'n_estimators': 750, 'max_depth': 9, 'min_child_weight': 64}. Best is trial 0 with value: 25895.329099756465.\u001b[0m\n"
     ]
    },
    {
     "name": "stdout",
     "output_type": "stream",
     "text": [
      "LGBM average rmse_scores: 26214.330928425254, rmse_scores: [19831.40428064 20039.21382514 54863.88110247 56009.72590423\n",
      " 29900.24350841 13507.73394071 12359.79148079 25557.985213\n",
      " 22598.22387112 34117.80646005 14865.52649845 13909.8459276\n",
      " 21980.87217221 27063.63479704 26609.07494452]\n"
     ]
    },
    {
     "name": "stderr",
     "output_type": "stream",
     "text": [
      "\u001b[32m[I 2021-12-28 16:23:40,147]\u001b[0m Trial 2 finished with value: 25739.27317819786 and parameters: {'n_estimators': 727, 'max_depth': 14, 'min_child_weight': 21}. Best is trial 2 with value: 25739.27317819786.\u001b[0m\n"
     ]
    },
    {
     "name": "stdout",
     "output_type": "stream",
     "text": [
      "LGBM average rmse_scores: 25739.27317819786, rmse_scores: [19982.4711522  19401.4453833  55313.02189458 56188.8881972\n",
      " 29589.53745901 12440.62745936 11658.56881514 24586.18736491\n",
      " 21635.68308552 33538.90012906 14624.16575483 13800.14089515\n",
      " 21483.4692944  26478.39201484 25367.59877348]\n",
      "25739.27317819786 {'n_estimators': 727, 'max_depth': 14, 'min_child_weight': 21}\n"
     ]
    }
   ],
   "source": [
    "# 3. test get_best_param function\n",
    "\n",
    "# linear regression model object\n",
    "def linear_object(trial:Trial, data, target):\n",
    "    params = {\n",
    "        'fit_intercept': trial.suggest_categorical('fit_intercept', [True, False])\n",
    "    }\n",
    "    \n",
    "    test_model = LinearRegression(**params)\n",
    "    test_model_score = execute_modeling(('LR', test_model), data, target)\n",
    "\n",
    "    return test_model_score\n",
    "\n",
    "# xgbr regression model object\n",
    "def xgbr_object(trial:Trial, data, target):\n",
    "    params = {\n",
    "        \"n_estimators\" : trial.suggest_int('n_estimators', 500, 1000),\n",
    "        'max_depth':trial.suggest_int('max_depth', 8, 16),\n",
    "        'min_child_weight':trial.suggest_int('min_child_weight', 1, 100),\n",
    "        'gamma':trial.suggest_int('gamma', 1, 3),\n",
    "        'learning_rate': 0.01,\n",
    "        'colsample_bytree':trial.suggest_discrete_uniform('colsample_bytree',0.5, 1, 0.1),\n",
    "        'nthread' : -1,\n",
    "        'tree_method': 'gpu_hist',\n",
    "        'predictor': 'gpu_predictor',\n",
    "        'lambda': trial.suggest_loguniform('lambda', 1e-3, 1.0),\n",
    "        'alpha': trial.suggest_loguniform('alpha', 1e-3, 1.0),\n",
    "        'subsample': trial.suggest_categorical('subsample', [0.6,0.7,0.8,1.0] ),\n",
    "        'random_state': 42\n",
    "    }\n",
    "    \n",
    "    test_model = xgb.XGBRegressor(**params)\n",
    "    test_model_score = execute_modeling(('XGBR', test_model), data, target)\n",
    "\n",
    "    return test_model_score\n",
    "\n",
    "# light gbm regression model object\n",
    "def lgb_object(trial:Trial, data, target):\n",
    "    params = {\n",
    "        \"n_estimators\" : trial.suggest_int('n_estimators', 500, 1000),\n",
    "        'max_depth':trial.suggest_int('max_depth', 8, 16),\n",
    "        'min_child_weight':trial.suggest_int('min_child_weight', 1, 100)\n",
    "    }\n",
    "    \n",
    "    test_model = lgb.LGBMRegressor(**params)\n",
    "    test_model_score = execute_modeling(('LGBM', test_model), data, target)\n",
    "\n",
    "    return test_model_score\n",
    "\n",
    "# 하이퍼 파라미터 결과 도출\n",
    "# 위에서 분할한  X_train, y_train, X_test, y_test 파라미터 삽입\n",
    "study = optuna.create_study(direction='minimize', sampler=TPESampler())\n",
    "study.optimize(lambda trial: lgb_object(trial, train_x, train_y), n_trials=3)\n",
    "\n",
    "best_score = study.best_value\n",
    "best_param_dict = study.best_trial.params\n",
    "\n",
    "print(best_score, best_param_dict)"
   ]
  },
  {
   "cell_type": "code",
   "execution_count": 8,
   "metadata": {},
   "outputs": [
    {
     "data": {
      "application/vnd.plotly.v1+json": {
       "config": {
        "plotlyServerURL": "https://plot.ly"
       },
       "data": [
        {
         "cliponaxis": false,
         "hovertemplate": [
          "n_estimators (IntUniformDistribution): 0.14653137089826526<extra></extra>",
          "max_depth (IntUniformDistribution): 0.2978409437962425<extra></extra>",
          "min_child_weight (IntUniformDistribution): 0.5556276853054922<extra></extra>"
         ],
         "marker": {
          "color": "rgb(66,146,198)"
         },
         "orientation": "h",
         "text": [
          "0.14653137089826526",
          "0.2978409437962425",
          "0.5556276853054922"
         ],
         "textposition": "outside",
         "texttemplate": "%{text:.2f}",
         "type": "bar",
         "x": [
          0.14653137089826526,
          0.2978409437962425,
          0.5556276853054922
         ],
         "y": [
          "n_estimators",
          "max_depth",
          "min_child_weight"
         ]
        }
       ],
       "layout": {
        "showlegend": false,
        "template": {
         "data": {
          "bar": [
           {
            "error_x": {
             "color": "#2a3f5f"
            },
            "error_y": {
             "color": "#2a3f5f"
            },
            "marker": {
             "line": {
              "color": "#E5ECF6",
              "width": 0.5
             },
             "pattern": {
              "fillmode": "overlay",
              "size": 10,
              "solidity": 0.2
             }
            },
            "type": "bar"
           }
          ],
          "barpolar": [
           {
            "marker": {
             "line": {
              "color": "#E5ECF6",
              "width": 0.5
             },
             "pattern": {
              "fillmode": "overlay",
              "size": 10,
              "solidity": 0.2
             }
            },
            "type": "barpolar"
           }
          ],
          "carpet": [
           {
            "aaxis": {
             "endlinecolor": "#2a3f5f",
             "gridcolor": "white",
             "linecolor": "white",
             "minorgridcolor": "white",
             "startlinecolor": "#2a3f5f"
            },
            "baxis": {
             "endlinecolor": "#2a3f5f",
             "gridcolor": "white",
             "linecolor": "white",
             "minorgridcolor": "white",
             "startlinecolor": "#2a3f5f"
            },
            "type": "carpet"
           }
          ],
          "choropleth": [
           {
            "colorbar": {
             "outlinewidth": 0,
             "ticks": ""
            },
            "type": "choropleth"
           }
          ],
          "contour": [
           {
            "colorbar": {
             "outlinewidth": 0,
             "ticks": ""
            },
            "colorscale": [
             [
              0,
              "#0d0887"
             ],
             [
              0.1111111111111111,
              "#46039f"
             ],
             [
              0.2222222222222222,
              "#7201a8"
             ],
             [
              0.3333333333333333,
              "#9c179e"
             ],
             [
              0.4444444444444444,
              "#bd3786"
             ],
             [
              0.5555555555555556,
              "#d8576b"
             ],
             [
              0.6666666666666666,
              "#ed7953"
             ],
             [
              0.7777777777777778,
              "#fb9f3a"
             ],
             [
              0.8888888888888888,
              "#fdca26"
             ],
             [
              1,
              "#f0f921"
             ]
            ],
            "type": "contour"
           }
          ],
          "contourcarpet": [
           {
            "colorbar": {
             "outlinewidth": 0,
             "ticks": ""
            },
            "type": "contourcarpet"
           }
          ],
          "heatmap": [
           {
            "colorbar": {
             "outlinewidth": 0,
             "ticks": ""
            },
            "colorscale": [
             [
              0,
              "#0d0887"
             ],
             [
              0.1111111111111111,
              "#46039f"
             ],
             [
              0.2222222222222222,
              "#7201a8"
             ],
             [
              0.3333333333333333,
              "#9c179e"
             ],
             [
              0.4444444444444444,
              "#bd3786"
             ],
             [
              0.5555555555555556,
              "#d8576b"
             ],
             [
              0.6666666666666666,
              "#ed7953"
             ],
             [
              0.7777777777777778,
              "#fb9f3a"
             ],
             [
              0.8888888888888888,
              "#fdca26"
             ],
             [
              1,
              "#f0f921"
             ]
            ],
            "type": "heatmap"
           }
          ],
          "heatmapgl": [
           {
            "colorbar": {
             "outlinewidth": 0,
             "ticks": ""
            },
            "colorscale": [
             [
              0,
              "#0d0887"
             ],
             [
              0.1111111111111111,
              "#46039f"
             ],
             [
              0.2222222222222222,
              "#7201a8"
             ],
             [
              0.3333333333333333,
              "#9c179e"
             ],
             [
              0.4444444444444444,
              "#bd3786"
             ],
             [
              0.5555555555555556,
              "#d8576b"
             ],
             [
              0.6666666666666666,
              "#ed7953"
             ],
             [
              0.7777777777777778,
              "#fb9f3a"
             ],
             [
              0.8888888888888888,
              "#fdca26"
             ],
             [
              1,
              "#f0f921"
             ]
            ],
            "type": "heatmapgl"
           }
          ],
          "histogram": [
           {
            "marker": {
             "pattern": {
              "fillmode": "overlay",
              "size": 10,
              "solidity": 0.2
             }
            },
            "type": "histogram"
           }
          ],
          "histogram2d": [
           {
            "colorbar": {
             "outlinewidth": 0,
             "ticks": ""
            },
            "colorscale": [
             [
              0,
              "#0d0887"
             ],
             [
              0.1111111111111111,
              "#46039f"
             ],
             [
              0.2222222222222222,
              "#7201a8"
             ],
             [
              0.3333333333333333,
              "#9c179e"
             ],
             [
              0.4444444444444444,
              "#bd3786"
             ],
             [
              0.5555555555555556,
              "#d8576b"
             ],
             [
              0.6666666666666666,
              "#ed7953"
             ],
             [
              0.7777777777777778,
              "#fb9f3a"
             ],
             [
              0.8888888888888888,
              "#fdca26"
             ],
             [
              1,
              "#f0f921"
             ]
            ],
            "type": "histogram2d"
           }
          ],
          "histogram2dcontour": [
           {
            "colorbar": {
             "outlinewidth": 0,
             "ticks": ""
            },
            "colorscale": [
             [
              0,
              "#0d0887"
             ],
             [
              0.1111111111111111,
              "#46039f"
             ],
             [
              0.2222222222222222,
              "#7201a8"
             ],
             [
              0.3333333333333333,
              "#9c179e"
             ],
             [
              0.4444444444444444,
              "#bd3786"
             ],
             [
              0.5555555555555556,
              "#d8576b"
             ],
             [
              0.6666666666666666,
              "#ed7953"
             ],
             [
              0.7777777777777778,
              "#fb9f3a"
             ],
             [
              0.8888888888888888,
              "#fdca26"
             ],
             [
              1,
              "#f0f921"
             ]
            ],
            "type": "histogram2dcontour"
           }
          ],
          "mesh3d": [
           {
            "colorbar": {
             "outlinewidth": 0,
             "ticks": ""
            },
            "type": "mesh3d"
           }
          ],
          "parcoords": [
           {
            "line": {
             "colorbar": {
              "outlinewidth": 0,
              "ticks": ""
             }
            },
            "type": "parcoords"
           }
          ],
          "pie": [
           {
            "automargin": true,
            "type": "pie"
           }
          ],
          "scatter": [
           {
            "marker": {
             "colorbar": {
              "outlinewidth": 0,
              "ticks": ""
             }
            },
            "type": "scatter"
           }
          ],
          "scatter3d": [
           {
            "line": {
             "colorbar": {
              "outlinewidth": 0,
              "ticks": ""
             }
            },
            "marker": {
             "colorbar": {
              "outlinewidth": 0,
              "ticks": ""
             }
            },
            "type": "scatter3d"
           }
          ],
          "scattercarpet": [
           {
            "marker": {
             "colorbar": {
              "outlinewidth": 0,
              "ticks": ""
             }
            },
            "type": "scattercarpet"
           }
          ],
          "scattergeo": [
           {
            "marker": {
             "colorbar": {
              "outlinewidth": 0,
              "ticks": ""
             }
            },
            "type": "scattergeo"
           }
          ],
          "scattergl": [
           {
            "marker": {
             "colorbar": {
              "outlinewidth": 0,
              "ticks": ""
             }
            },
            "type": "scattergl"
           }
          ],
          "scattermapbox": [
           {
            "marker": {
             "colorbar": {
              "outlinewidth": 0,
              "ticks": ""
             }
            },
            "type": "scattermapbox"
           }
          ],
          "scatterpolar": [
           {
            "marker": {
             "colorbar": {
              "outlinewidth": 0,
              "ticks": ""
             }
            },
            "type": "scatterpolar"
           }
          ],
          "scatterpolargl": [
           {
            "marker": {
             "colorbar": {
              "outlinewidth": 0,
              "ticks": ""
             }
            },
            "type": "scatterpolargl"
           }
          ],
          "scatterternary": [
           {
            "marker": {
             "colorbar": {
              "outlinewidth": 0,
              "ticks": ""
             }
            },
            "type": "scatterternary"
           }
          ],
          "surface": [
           {
            "colorbar": {
             "outlinewidth": 0,
             "ticks": ""
            },
            "colorscale": [
             [
              0,
              "#0d0887"
             ],
             [
              0.1111111111111111,
              "#46039f"
             ],
             [
              0.2222222222222222,
              "#7201a8"
             ],
             [
              0.3333333333333333,
              "#9c179e"
             ],
             [
              0.4444444444444444,
              "#bd3786"
             ],
             [
              0.5555555555555556,
              "#d8576b"
             ],
             [
              0.6666666666666666,
              "#ed7953"
             ],
             [
              0.7777777777777778,
              "#fb9f3a"
             ],
             [
              0.8888888888888888,
              "#fdca26"
             ],
             [
              1,
              "#f0f921"
             ]
            ],
            "type": "surface"
           }
          ],
          "table": [
           {
            "cells": {
             "fill": {
              "color": "#EBF0F8"
             },
             "line": {
              "color": "white"
             }
            },
            "header": {
             "fill": {
              "color": "#C8D4E3"
             },
             "line": {
              "color": "white"
             }
            },
            "type": "table"
           }
          ]
         },
         "layout": {
          "annotationdefaults": {
           "arrowcolor": "#2a3f5f",
           "arrowhead": 0,
           "arrowwidth": 1
          },
          "autotypenumbers": "strict",
          "coloraxis": {
           "colorbar": {
            "outlinewidth": 0,
            "ticks": ""
           }
          },
          "colorscale": {
           "diverging": [
            [
             0,
             "#8e0152"
            ],
            [
             0.1,
             "#c51b7d"
            ],
            [
             0.2,
             "#de77ae"
            ],
            [
             0.3,
             "#f1b6da"
            ],
            [
             0.4,
             "#fde0ef"
            ],
            [
             0.5,
             "#f7f7f7"
            ],
            [
             0.6,
             "#e6f5d0"
            ],
            [
             0.7,
             "#b8e186"
            ],
            [
             0.8,
             "#7fbc41"
            ],
            [
             0.9,
             "#4d9221"
            ],
            [
             1,
             "#276419"
            ]
           ],
           "sequential": [
            [
             0,
             "#0d0887"
            ],
            [
             0.1111111111111111,
             "#46039f"
            ],
            [
             0.2222222222222222,
             "#7201a8"
            ],
            [
             0.3333333333333333,
             "#9c179e"
            ],
            [
             0.4444444444444444,
             "#bd3786"
            ],
            [
             0.5555555555555556,
             "#d8576b"
            ],
            [
             0.6666666666666666,
             "#ed7953"
            ],
            [
             0.7777777777777778,
             "#fb9f3a"
            ],
            [
             0.8888888888888888,
             "#fdca26"
            ],
            [
             1,
             "#f0f921"
            ]
           ],
           "sequentialminus": [
            [
             0,
             "#0d0887"
            ],
            [
             0.1111111111111111,
             "#46039f"
            ],
            [
             0.2222222222222222,
             "#7201a8"
            ],
            [
             0.3333333333333333,
             "#9c179e"
            ],
            [
             0.4444444444444444,
             "#bd3786"
            ],
            [
             0.5555555555555556,
             "#d8576b"
            ],
            [
             0.6666666666666666,
             "#ed7953"
            ],
            [
             0.7777777777777778,
             "#fb9f3a"
            ],
            [
             0.8888888888888888,
             "#fdca26"
            ],
            [
             1,
             "#f0f921"
            ]
           ]
          },
          "colorway": [
           "#636efa",
           "#EF553B",
           "#00cc96",
           "#ab63fa",
           "#FFA15A",
           "#19d3f3",
           "#FF6692",
           "#B6E880",
           "#FF97FF",
           "#FECB52"
          ],
          "font": {
           "color": "#2a3f5f"
          },
          "geo": {
           "bgcolor": "white",
           "lakecolor": "white",
           "landcolor": "#E5ECF6",
           "showlakes": true,
           "showland": true,
           "subunitcolor": "white"
          },
          "hoverlabel": {
           "align": "left"
          },
          "hovermode": "closest",
          "mapbox": {
           "style": "light"
          },
          "paper_bgcolor": "white",
          "plot_bgcolor": "#E5ECF6",
          "polar": {
           "angularaxis": {
            "gridcolor": "white",
            "linecolor": "white",
            "ticks": ""
           },
           "bgcolor": "#E5ECF6",
           "radialaxis": {
            "gridcolor": "white",
            "linecolor": "white",
            "ticks": ""
           }
          },
          "scene": {
           "xaxis": {
            "backgroundcolor": "#E5ECF6",
            "gridcolor": "white",
            "gridwidth": 2,
            "linecolor": "white",
            "showbackground": true,
            "ticks": "",
            "zerolinecolor": "white"
           },
           "yaxis": {
            "backgroundcolor": "#E5ECF6",
            "gridcolor": "white",
            "gridwidth": 2,
            "linecolor": "white",
            "showbackground": true,
            "ticks": "",
            "zerolinecolor": "white"
           },
           "zaxis": {
            "backgroundcolor": "#E5ECF6",
            "gridcolor": "white",
            "gridwidth": 2,
            "linecolor": "white",
            "showbackground": true,
            "ticks": "",
            "zerolinecolor": "white"
           }
          },
          "shapedefaults": {
           "line": {
            "color": "#2a3f5f"
           }
          },
          "ternary": {
           "aaxis": {
            "gridcolor": "white",
            "linecolor": "white",
            "ticks": ""
           },
           "baxis": {
            "gridcolor": "white",
            "linecolor": "white",
            "ticks": ""
           },
           "bgcolor": "#E5ECF6",
           "caxis": {
            "gridcolor": "white",
            "linecolor": "white",
            "ticks": ""
           }
          },
          "title": {
           "x": 0.05
          },
          "xaxis": {
           "automargin": true,
           "gridcolor": "white",
           "linecolor": "white",
           "ticks": "",
           "title": {
            "standoff": 15
           },
           "zerolinecolor": "white",
           "zerolinewidth": 2
          },
          "yaxis": {
           "automargin": true,
           "gridcolor": "white",
           "linecolor": "white",
           "ticks": "",
           "title": {
            "standoff": 15
           },
           "zerolinecolor": "white",
           "zerolinewidth": 2
          }
         }
        },
        "title": {
         "text": "Hyperparameter Importances"
        },
        "xaxis": {
         "title": {
          "text": "Importance for Objective Value"
         }
        },
        "yaxis": {
         "title": {
          "text": "Hyperparameter"
         }
        }
       }
      }
     },
     "metadata": {},
     "output_type": "display_data"
    }
   ],
   "source": [
    "# 하이퍼파라미터별 중요도를 확인할 수 있는 그래프\n",
    "optuna.visualization.plot_param_importances(study)"
   ]
  },
  {
   "cell_type": "code",
   "execution_count": 9,
   "metadata": {},
   "outputs": [
    {
     "data": {
      "application/vnd.plotly.v1+json": {
       "config": {
        "plotlyServerURL": "https://plot.ly"
       },
       "data": [
        {
         "mode": "markers",
         "name": "Objective Value",
         "type": "scatter",
         "x": [
          0,
          1,
          2
         ],
         "y": [
          25895.329099756465,
          26214.330928425254,
          25739.27317819786
         ]
        },
        {
         "name": "Best Value",
         "type": "scatter",
         "x": [
          0,
          1,
          2
         ],
         "y": [
          25895.329099756465,
          25895.329099756465,
          25739.27317819786
         ]
        }
       ],
       "layout": {
        "template": {
         "data": {
          "bar": [
           {
            "error_x": {
             "color": "#2a3f5f"
            },
            "error_y": {
             "color": "#2a3f5f"
            },
            "marker": {
             "line": {
              "color": "#E5ECF6",
              "width": 0.5
             },
             "pattern": {
              "fillmode": "overlay",
              "size": 10,
              "solidity": 0.2
             }
            },
            "type": "bar"
           }
          ],
          "barpolar": [
           {
            "marker": {
             "line": {
              "color": "#E5ECF6",
              "width": 0.5
             },
             "pattern": {
              "fillmode": "overlay",
              "size": 10,
              "solidity": 0.2
             }
            },
            "type": "barpolar"
           }
          ],
          "carpet": [
           {
            "aaxis": {
             "endlinecolor": "#2a3f5f",
             "gridcolor": "white",
             "linecolor": "white",
             "minorgridcolor": "white",
             "startlinecolor": "#2a3f5f"
            },
            "baxis": {
             "endlinecolor": "#2a3f5f",
             "gridcolor": "white",
             "linecolor": "white",
             "minorgridcolor": "white",
             "startlinecolor": "#2a3f5f"
            },
            "type": "carpet"
           }
          ],
          "choropleth": [
           {
            "colorbar": {
             "outlinewidth": 0,
             "ticks": ""
            },
            "type": "choropleth"
           }
          ],
          "contour": [
           {
            "colorbar": {
             "outlinewidth": 0,
             "ticks": ""
            },
            "colorscale": [
             [
              0,
              "#0d0887"
             ],
             [
              0.1111111111111111,
              "#46039f"
             ],
             [
              0.2222222222222222,
              "#7201a8"
             ],
             [
              0.3333333333333333,
              "#9c179e"
             ],
             [
              0.4444444444444444,
              "#bd3786"
             ],
             [
              0.5555555555555556,
              "#d8576b"
             ],
             [
              0.6666666666666666,
              "#ed7953"
             ],
             [
              0.7777777777777778,
              "#fb9f3a"
             ],
             [
              0.8888888888888888,
              "#fdca26"
             ],
             [
              1,
              "#f0f921"
             ]
            ],
            "type": "contour"
           }
          ],
          "contourcarpet": [
           {
            "colorbar": {
             "outlinewidth": 0,
             "ticks": ""
            },
            "type": "contourcarpet"
           }
          ],
          "heatmap": [
           {
            "colorbar": {
             "outlinewidth": 0,
             "ticks": ""
            },
            "colorscale": [
             [
              0,
              "#0d0887"
             ],
             [
              0.1111111111111111,
              "#46039f"
             ],
             [
              0.2222222222222222,
              "#7201a8"
             ],
             [
              0.3333333333333333,
              "#9c179e"
             ],
             [
              0.4444444444444444,
              "#bd3786"
             ],
             [
              0.5555555555555556,
              "#d8576b"
             ],
             [
              0.6666666666666666,
              "#ed7953"
             ],
             [
              0.7777777777777778,
              "#fb9f3a"
             ],
             [
              0.8888888888888888,
              "#fdca26"
             ],
             [
              1,
              "#f0f921"
             ]
            ],
            "type": "heatmap"
           }
          ],
          "heatmapgl": [
           {
            "colorbar": {
             "outlinewidth": 0,
             "ticks": ""
            },
            "colorscale": [
             [
              0,
              "#0d0887"
             ],
             [
              0.1111111111111111,
              "#46039f"
             ],
             [
              0.2222222222222222,
              "#7201a8"
             ],
             [
              0.3333333333333333,
              "#9c179e"
             ],
             [
              0.4444444444444444,
              "#bd3786"
             ],
             [
              0.5555555555555556,
              "#d8576b"
             ],
             [
              0.6666666666666666,
              "#ed7953"
             ],
             [
              0.7777777777777778,
              "#fb9f3a"
             ],
             [
              0.8888888888888888,
              "#fdca26"
             ],
             [
              1,
              "#f0f921"
             ]
            ],
            "type": "heatmapgl"
           }
          ],
          "histogram": [
           {
            "marker": {
             "pattern": {
              "fillmode": "overlay",
              "size": 10,
              "solidity": 0.2
             }
            },
            "type": "histogram"
           }
          ],
          "histogram2d": [
           {
            "colorbar": {
             "outlinewidth": 0,
             "ticks": ""
            },
            "colorscale": [
             [
              0,
              "#0d0887"
             ],
             [
              0.1111111111111111,
              "#46039f"
             ],
             [
              0.2222222222222222,
              "#7201a8"
             ],
             [
              0.3333333333333333,
              "#9c179e"
             ],
             [
              0.4444444444444444,
              "#bd3786"
             ],
             [
              0.5555555555555556,
              "#d8576b"
             ],
             [
              0.6666666666666666,
              "#ed7953"
             ],
             [
              0.7777777777777778,
              "#fb9f3a"
             ],
             [
              0.8888888888888888,
              "#fdca26"
             ],
             [
              1,
              "#f0f921"
             ]
            ],
            "type": "histogram2d"
           }
          ],
          "histogram2dcontour": [
           {
            "colorbar": {
             "outlinewidth": 0,
             "ticks": ""
            },
            "colorscale": [
             [
              0,
              "#0d0887"
             ],
             [
              0.1111111111111111,
              "#46039f"
             ],
             [
              0.2222222222222222,
              "#7201a8"
             ],
             [
              0.3333333333333333,
              "#9c179e"
             ],
             [
              0.4444444444444444,
              "#bd3786"
             ],
             [
              0.5555555555555556,
              "#d8576b"
             ],
             [
              0.6666666666666666,
              "#ed7953"
             ],
             [
              0.7777777777777778,
              "#fb9f3a"
             ],
             [
              0.8888888888888888,
              "#fdca26"
             ],
             [
              1,
              "#f0f921"
             ]
            ],
            "type": "histogram2dcontour"
           }
          ],
          "mesh3d": [
           {
            "colorbar": {
             "outlinewidth": 0,
             "ticks": ""
            },
            "type": "mesh3d"
           }
          ],
          "parcoords": [
           {
            "line": {
             "colorbar": {
              "outlinewidth": 0,
              "ticks": ""
             }
            },
            "type": "parcoords"
           }
          ],
          "pie": [
           {
            "automargin": true,
            "type": "pie"
           }
          ],
          "scatter": [
           {
            "marker": {
             "colorbar": {
              "outlinewidth": 0,
              "ticks": ""
             }
            },
            "type": "scatter"
           }
          ],
          "scatter3d": [
           {
            "line": {
             "colorbar": {
              "outlinewidth": 0,
              "ticks": ""
             }
            },
            "marker": {
             "colorbar": {
              "outlinewidth": 0,
              "ticks": ""
             }
            },
            "type": "scatter3d"
           }
          ],
          "scattercarpet": [
           {
            "marker": {
             "colorbar": {
              "outlinewidth": 0,
              "ticks": ""
             }
            },
            "type": "scattercarpet"
           }
          ],
          "scattergeo": [
           {
            "marker": {
             "colorbar": {
              "outlinewidth": 0,
              "ticks": ""
             }
            },
            "type": "scattergeo"
           }
          ],
          "scattergl": [
           {
            "marker": {
             "colorbar": {
              "outlinewidth": 0,
              "ticks": ""
             }
            },
            "type": "scattergl"
           }
          ],
          "scattermapbox": [
           {
            "marker": {
             "colorbar": {
              "outlinewidth": 0,
              "ticks": ""
             }
            },
            "type": "scattermapbox"
           }
          ],
          "scatterpolar": [
           {
            "marker": {
             "colorbar": {
              "outlinewidth": 0,
              "ticks": ""
             }
            },
            "type": "scatterpolar"
           }
          ],
          "scatterpolargl": [
           {
            "marker": {
             "colorbar": {
              "outlinewidth": 0,
              "ticks": ""
             }
            },
            "type": "scatterpolargl"
           }
          ],
          "scatterternary": [
           {
            "marker": {
             "colorbar": {
              "outlinewidth": 0,
              "ticks": ""
             }
            },
            "type": "scatterternary"
           }
          ],
          "surface": [
           {
            "colorbar": {
             "outlinewidth": 0,
             "ticks": ""
            },
            "colorscale": [
             [
              0,
              "#0d0887"
             ],
             [
              0.1111111111111111,
              "#46039f"
             ],
             [
              0.2222222222222222,
              "#7201a8"
             ],
             [
              0.3333333333333333,
              "#9c179e"
             ],
             [
              0.4444444444444444,
              "#bd3786"
             ],
             [
              0.5555555555555556,
              "#d8576b"
             ],
             [
              0.6666666666666666,
              "#ed7953"
             ],
             [
              0.7777777777777778,
              "#fb9f3a"
             ],
             [
              0.8888888888888888,
              "#fdca26"
             ],
             [
              1,
              "#f0f921"
             ]
            ],
            "type": "surface"
           }
          ],
          "table": [
           {
            "cells": {
             "fill": {
              "color": "#EBF0F8"
             },
             "line": {
              "color": "white"
             }
            },
            "header": {
             "fill": {
              "color": "#C8D4E3"
             },
             "line": {
              "color": "white"
             }
            },
            "type": "table"
           }
          ]
         },
         "layout": {
          "annotationdefaults": {
           "arrowcolor": "#2a3f5f",
           "arrowhead": 0,
           "arrowwidth": 1
          },
          "autotypenumbers": "strict",
          "coloraxis": {
           "colorbar": {
            "outlinewidth": 0,
            "ticks": ""
           }
          },
          "colorscale": {
           "diverging": [
            [
             0,
             "#8e0152"
            ],
            [
             0.1,
             "#c51b7d"
            ],
            [
             0.2,
             "#de77ae"
            ],
            [
             0.3,
             "#f1b6da"
            ],
            [
             0.4,
             "#fde0ef"
            ],
            [
             0.5,
             "#f7f7f7"
            ],
            [
             0.6,
             "#e6f5d0"
            ],
            [
             0.7,
             "#b8e186"
            ],
            [
             0.8,
             "#7fbc41"
            ],
            [
             0.9,
             "#4d9221"
            ],
            [
             1,
             "#276419"
            ]
           ],
           "sequential": [
            [
             0,
             "#0d0887"
            ],
            [
             0.1111111111111111,
             "#46039f"
            ],
            [
             0.2222222222222222,
             "#7201a8"
            ],
            [
             0.3333333333333333,
             "#9c179e"
            ],
            [
             0.4444444444444444,
             "#bd3786"
            ],
            [
             0.5555555555555556,
             "#d8576b"
            ],
            [
             0.6666666666666666,
             "#ed7953"
            ],
            [
             0.7777777777777778,
             "#fb9f3a"
            ],
            [
             0.8888888888888888,
             "#fdca26"
            ],
            [
             1,
             "#f0f921"
            ]
           ],
           "sequentialminus": [
            [
             0,
             "#0d0887"
            ],
            [
             0.1111111111111111,
             "#46039f"
            ],
            [
             0.2222222222222222,
             "#7201a8"
            ],
            [
             0.3333333333333333,
             "#9c179e"
            ],
            [
             0.4444444444444444,
             "#bd3786"
            ],
            [
             0.5555555555555556,
             "#d8576b"
            ],
            [
             0.6666666666666666,
             "#ed7953"
            ],
            [
             0.7777777777777778,
             "#fb9f3a"
            ],
            [
             0.8888888888888888,
             "#fdca26"
            ],
            [
             1,
             "#f0f921"
            ]
           ]
          },
          "colorway": [
           "#636efa",
           "#EF553B",
           "#00cc96",
           "#ab63fa",
           "#FFA15A",
           "#19d3f3",
           "#FF6692",
           "#B6E880",
           "#FF97FF",
           "#FECB52"
          ],
          "font": {
           "color": "#2a3f5f"
          },
          "geo": {
           "bgcolor": "white",
           "lakecolor": "white",
           "landcolor": "#E5ECF6",
           "showlakes": true,
           "showland": true,
           "subunitcolor": "white"
          },
          "hoverlabel": {
           "align": "left"
          },
          "hovermode": "closest",
          "mapbox": {
           "style": "light"
          },
          "paper_bgcolor": "white",
          "plot_bgcolor": "#E5ECF6",
          "polar": {
           "angularaxis": {
            "gridcolor": "white",
            "linecolor": "white",
            "ticks": ""
           },
           "bgcolor": "#E5ECF6",
           "radialaxis": {
            "gridcolor": "white",
            "linecolor": "white",
            "ticks": ""
           }
          },
          "scene": {
           "xaxis": {
            "backgroundcolor": "#E5ECF6",
            "gridcolor": "white",
            "gridwidth": 2,
            "linecolor": "white",
            "showbackground": true,
            "ticks": "",
            "zerolinecolor": "white"
           },
           "yaxis": {
            "backgroundcolor": "#E5ECF6",
            "gridcolor": "white",
            "gridwidth": 2,
            "linecolor": "white",
            "showbackground": true,
            "ticks": "",
            "zerolinecolor": "white"
           },
           "zaxis": {
            "backgroundcolor": "#E5ECF6",
            "gridcolor": "white",
            "gridwidth": 2,
            "linecolor": "white",
            "showbackground": true,
            "ticks": "",
            "zerolinecolor": "white"
           }
          },
          "shapedefaults": {
           "line": {
            "color": "#2a3f5f"
           }
          },
          "ternary": {
           "aaxis": {
            "gridcolor": "white",
            "linecolor": "white",
            "ticks": ""
           },
           "baxis": {
            "gridcolor": "white",
            "linecolor": "white",
            "ticks": ""
           },
           "bgcolor": "#E5ECF6",
           "caxis": {
            "gridcolor": "white",
            "linecolor": "white",
            "ticks": ""
           }
          },
          "title": {
           "x": 0.05
          },
          "xaxis": {
           "automargin": true,
           "gridcolor": "white",
           "linecolor": "white",
           "ticks": "",
           "title": {
            "standoff": 15
           },
           "zerolinecolor": "white",
           "zerolinewidth": 2
          },
          "yaxis": {
           "automargin": true,
           "gridcolor": "white",
           "linecolor": "white",
           "ticks": "",
           "title": {
            "standoff": 15
           },
           "zerolinecolor": "white",
           "zerolinewidth": 2
          }
         }
        },
        "title": {
         "text": "Optimization History Plot"
        },
        "xaxis": {
         "title": {
          "text": "#Trials"
         }
        },
        "yaxis": {
         "title": {
          "text": "Objective Value"
         }
        }
       }
      }
     },
     "metadata": {},
     "output_type": "display_data"
    }
   ],
   "source": [
    "# 하이퍼파라미터 최적화 과정을 확인\n",
    "optuna.visualization.plot_optimization_history(study)"
   ]
  },
  {
   "cell_type": "markdown",
   "metadata": {},
   "source": [
    "### 최종 모형 검증"
   ]
  },
  {
   "cell_type": "code",
   "execution_count": 106,
   "metadata": {
    "scrolled": true
   },
   "outputs": [
    {
     "name": "stdout",
     "output_type": "stream",
     "text": [
      "[5435.68673072 5113.81602921 5328.39649688 ... 1866.18718455 2179.02000528\n",
      " 1268.4435068 ]\n",
      " \n",
      "train\n",
      "RMSE:  242.75230322734606\n",
      "R^2:  0.9784782869432734\n",
      " \n",
      "test\n",
      "RMSE:  870.7773921507347\n",
      "R^2:  0.749509254524893\n"
     ]
    }
   ],
   "source": [
    "# 각 모델에 대하여 실질적 학습 수행\n",
    "# execute_modeling 함수에서 실행한 결과에서 성능 가장 좋은 모델 선정하여 검증 ㄱㄱ\n",
    "\n",
    "# model = xgb.XGBRegressor()\n",
    "model = RandomForestRegressor(n_estimators=5)\n",
    "model.fit(train_x, train_y)\n",
    "pred_train = model.predict(train_x)\n",
    "\n",
    "# pred = model.predict(test_x)\n",
    "print(pred_train)\n",
    "\n",
    "from sklearn.metrics import mean_squared_error, r2_score\n",
    "mse = mean_squared_error(test_y, pred)\n",
    "mse_train = mean_squared_error(train_y, pred_train)\n",
    "\n",
    "rmse = np.sqrt(mse)\n",
    "rmse_train = np.sqrt(mse_train)\n",
    "\n",
    "r2 = r2_score(test_y, pred)\n",
    "r2_train = r2_score(train_y, pred_train)\n",
    "print(' ')\n",
    "print('train')\n",
    "print('RMSE: ',rmse_train)\n",
    "print('R^2: ', r2_train )\n",
    "print(' ')\n",
    "print('test')\n",
    "print('RMSE: ',rmse)\n",
    "print('R^2: ', r2 )\n",
    "\n",
    "\n",
    "# execute_modeling(('model_xgb', model), test_x, test_y)"
   ]
  },
  {
   "cell_type": "code",
   "execution_count": null,
   "metadata": {},
   "outputs": [],
   "source": [
    "'''\n",
    "# 모든 데이터\n",
    "   \n",
    "    *모델 score*\n",
    "RF average r2: 0.5272973000418608, score_list r2: [0.13219856 0.51651009 0.48258216 0.82794891 0.56851242 0.60397585\n",
    " 0.55935312]\n",
    "RF average neg_mean_squared_error: 880.1900126847287, score_list neg_mean_squared_error: [ 474.64765858 1156.10258015  985.13257209 1010.37012195  557.33120699\n",
    "  641.23304911 1336.51289993]\n",
    "RF 학습완료\n",
    "model_xgb average r2: 0.5915764411745851, score_list r2: [0.03094907 0.49068895 0.59252312 0.79804853 0.65838259 0.76010322\n",
    " 0.8103396 ]\n",
    "model_xgb average neg_mean_squared_error: 767.0382564144693, score_list neg_mean_squared_error: [ 539.48001704 1049.87832906  837.2110971  1076.82570271  493.57398292\n",
    "  531.23398039  841.06468568]\n",
    "model_xgb 학습완료\n",
    "model_lgb average r2: 0.6035898598493977, score_list r2: [0.10151401 0.54162917 0.61602975 0.81672236 0.61842359 0.72095424\n",
    " 0.8098559 ]\n",
    "model_lgb average neg_mean_squared_error: 755.8167943585235, score_list neg_mean_squared_error: [ 519.4667045   995.99212776  812.70377911 1025.83296161  521.64256753\n",
    "  572.94291513  842.13650489]\n",
    "model_lgb 학습완료\n",
    "\n",
    "    *검증 score*\n",
    "RMSE:  1019.4182893482093\n",
    "R^2:  0.6566933332187974\n",
    "\n",
    "# 모든 데이터에서 층 제외\n",
    "\n",
    "    *모델 점수*\n",
    "RF average r2: 0.48980736149089743, score_list r2: [0.12367379 0.33855814 0.46794551 0.80822492 0.56304629 0.57949978\n",
    " 0.5477031 ]\n",
    " 33%|████████████████████████████                                                        | 1/3 [00:26<00:52, 26.31s/it]\n",
    "RF average neg_mean_squared_error: 878.0218878090394, score_list neg_mean_squared_error: [ 517.6899633  1072.92850981  961.13588019 1068.87787371  608.18907851\n",
    "  683.49794916 1233.83395998]\n",
    "RF 학습완료\n",
    "model_xgb average r2: 0.5712966746580862, score_list r2: [-0.06409271  0.44013424  0.60506382  0.79183122  0.65626342  0.75355462\n",
    "  0.81632211]\n",
    " 67%|████████████████████████████████████████████████████████                            | 2/3 [01:36<00:52, 52.12s/it]\n",
    "model_xgb average neg_mean_squared_error: 777.8290237111562, score_list neg_mean_squared_error: [ 565.31667459 1100.75172714  824.22721202 1093.27574155  495.10252006\n",
    "  538.43586397  827.69342665]\n",
    "model_xgb 학습완료\n",
    "model_lgb average r2: 0.5925900058054843, score_list r2: [0.08930624 0.51828645 0.60399015 0.81045301 0.60577502 0.71599348\n",
    " 0.80432569]\n",
    "100%|████████████████████████████████████████████████████████████████████████████████████| 3/3 [01:43<00:00, 34.42s/it]\n",
    "model_lgb average neg_mean_squared_error: 767.8750711407068, score_list neg_mean_squared_error: [ 522.98380716 1021.0378756   825.34682058 1043.23070056  530.21783266\n",
    "  578.01325609  854.29520534]\n",
    "model_lgb 학습완료\n",
    "\n",
    "    *검증 점수*\n",
    "train\n",
    "RMSE:  288.6510080758471\n",
    "R^2:  0.9695703977598227\n",
    "test\n",
    "RMSE:  870.7773921507347\n",
    "R^2:  0.749509254524893\n",
    "\n",
    "'''"
   ]
  }
 ],
 "metadata": {
  "interpreter": {
   "hash": "9cea8177b4720f8e58b915fe7d25071150cb7f046bd1970d257908049c667e74"
  },
  "kernelspec": {
   "display_name": "Python 3",
   "language": "python",
   "name": "python3"
  },
  "language_info": {
   "codemirror_mode": {
    "name": "ipython",
    "version": 3
   },
   "file_extension": ".py",
   "mimetype": "text/x-python",
   "name": "python",
   "nbconvert_exporter": "python",
   "pygments_lexer": "ipython3",
   "version": "3.8.8"
  }
 },
 "nbformat": 4,
 "nbformat_minor": 2
}
